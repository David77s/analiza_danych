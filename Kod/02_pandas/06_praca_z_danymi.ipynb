{
 "cells": [
  {
   "cell_type": "code",
   "execution_count": 1,
   "metadata": {
    "collapsed": true
   },
   "outputs": [],
   "source": [
    "import numpy as np"
   ]
  },
  {
   "cell_type": "code",
   "execution_count": 2,
   "outputs": [],
   "source": [
    "import pandas as pd"
   ],
   "metadata": {
    "collapsed": false
   }
  },
  {
   "cell_type": "code",
   "execution_count": 3,
   "outputs": [
    {
     "data": {
      "text/plain": "                                         offer_title     price  \\\n0                              Kawalerka na sprzedaż  240000.0   \n1  Nowoczesna kawalerka z winda plus garaż podziemny  250000.0   \n2        Nowa kawalerka z Balkonem/Legnicka/Magnolia  259000.0   \n3  Kawalerka z balkonem/klucze I kwartał 2022/60 ...  269000.0   \n4  40 tys. taniej od dewelopera/Kawalerka/Magnoli...  258000.0   \n\n   price_per_meter     offer_type  floor   area  rooms offer_type_of_building  \\\n0          8888.89        Private    1.0  27.00      1          Housing Block   \n1          7142.86        Private    1.0  35.00      1          Housing Block   \n2         10360.00  Estate Agency    2.0  25.00      1          Housing Block   \n3         10275.02        Private    3.0  26.18      1     Apartment Building   \n4          9923.08  Estate Agency    3.0  26.00      1          Housing Block   \n\n    market        city_name    voivodeship    month  year  population  \\\n0  primary      Bolesławiec  Lower Silesia  January  2022       39603   \n1  primary  Jelcz-Laskowice  Lower Silesia  January  2022       15828   \n2  primary          Wrocław  Lower Silesia  January  2022      634487   \n3  primary          Wrocław  Lower Silesia  January  2022      634487   \n4  primary          Wrocław  Lower Silesia  January  2022      634487   \n\n   longitude   latitude  \n0  15.565105  51.263033  \n1  17.349964  51.039831  \n2  17.032669  51.108978  \n3  17.032669  51.108978  \n4  17.032669  51.108978  ",
      "text/html": "<div>\n<style scoped>\n    .dataframe tbody tr th:only-of-type {\n        vertical-align: middle;\n    }\n\n    .dataframe tbody tr th {\n        vertical-align: top;\n    }\n\n    .dataframe thead th {\n        text-align: right;\n    }\n</style>\n<table border=\"1\" class=\"dataframe\">\n  <thead>\n    <tr style=\"text-align: right;\">\n      <th></th>\n      <th>offer_title</th>\n      <th>price</th>\n      <th>price_per_meter</th>\n      <th>offer_type</th>\n      <th>floor</th>\n      <th>area</th>\n      <th>rooms</th>\n      <th>offer_type_of_building</th>\n      <th>market</th>\n      <th>city_name</th>\n      <th>voivodeship</th>\n      <th>month</th>\n      <th>year</th>\n      <th>population</th>\n      <th>longitude</th>\n      <th>latitude</th>\n    </tr>\n  </thead>\n  <tbody>\n    <tr>\n      <th>0</th>\n      <td>Kawalerka na sprzedaż</td>\n      <td>240000.0</td>\n      <td>8888.89</td>\n      <td>Private</td>\n      <td>1.0</td>\n      <td>27.00</td>\n      <td>1</td>\n      <td>Housing Block</td>\n      <td>primary</td>\n      <td>Bolesławiec</td>\n      <td>Lower Silesia</td>\n      <td>January</td>\n      <td>2022</td>\n      <td>39603</td>\n      <td>15.565105</td>\n      <td>51.263033</td>\n    </tr>\n    <tr>\n      <th>1</th>\n      <td>Nowoczesna kawalerka z winda plus garaż podziemny</td>\n      <td>250000.0</td>\n      <td>7142.86</td>\n      <td>Private</td>\n      <td>1.0</td>\n      <td>35.00</td>\n      <td>1</td>\n      <td>Housing Block</td>\n      <td>primary</td>\n      <td>Jelcz-Laskowice</td>\n      <td>Lower Silesia</td>\n      <td>January</td>\n      <td>2022</td>\n      <td>15828</td>\n      <td>17.349964</td>\n      <td>51.039831</td>\n    </tr>\n    <tr>\n      <th>2</th>\n      <td>Nowa kawalerka z Balkonem/Legnicka/Magnolia</td>\n      <td>259000.0</td>\n      <td>10360.00</td>\n      <td>Estate Agency</td>\n      <td>2.0</td>\n      <td>25.00</td>\n      <td>1</td>\n      <td>Housing Block</td>\n      <td>primary</td>\n      <td>Wrocław</td>\n      <td>Lower Silesia</td>\n      <td>January</td>\n      <td>2022</td>\n      <td>634487</td>\n      <td>17.032669</td>\n      <td>51.108978</td>\n    </tr>\n    <tr>\n      <th>3</th>\n      <td>Kawalerka z balkonem/klucze I kwartał 2022/60 ...</td>\n      <td>269000.0</td>\n      <td>10275.02</td>\n      <td>Private</td>\n      <td>3.0</td>\n      <td>26.18</td>\n      <td>1</td>\n      <td>Apartment Building</td>\n      <td>primary</td>\n      <td>Wrocław</td>\n      <td>Lower Silesia</td>\n      <td>January</td>\n      <td>2022</td>\n      <td>634487</td>\n      <td>17.032669</td>\n      <td>51.108978</td>\n    </tr>\n    <tr>\n      <th>4</th>\n      <td>40 tys. taniej od dewelopera/Kawalerka/Magnoli...</td>\n      <td>258000.0</td>\n      <td>9923.08</td>\n      <td>Estate Agency</td>\n      <td>3.0</td>\n      <td>26.00</td>\n      <td>1</td>\n      <td>Housing Block</td>\n      <td>primary</td>\n      <td>Wrocław</td>\n      <td>Lower Silesia</td>\n      <td>January</td>\n      <td>2022</td>\n      <td>634487</td>\n      <td>17.032669</td>\n      <td>51.108978</td>\n    </tr>\n  </tbody>\n</table>\n</div>"
     },
     "execution_count": 3,
     "metadata": {},
     "output_type": "execute_result"
    }
   ],
   "source": [
    "df_house = pd.read_csv('../../Pliki/02_pandas/house_price.csv')\n",
    "df_house.head()"
   ],
   "metadata": {
    "collapsed": false
   }
  },
  {
   "cell_type": "code",
   "execution_count": 4,
   "outputs": [
    {
     "name": "stdout",
     "output_type": "stream",
     "text": [
      "<class 'pandas.core.frame.DataFrame'>\n",
      "RangeIndex: 62731 entries, 0 to 62730\n",
      "Data columns (total 16 columns):\n",
      " #   Column                  Non-Null Count  Dtype  \n",
      "---  ------                  --------------  -----  \n",
      " 0   offer_title             62731 non-null  object \n",
      " 1   price                   62731 non-null  float64\n",
      " 2   price_per_meter         62731 non-null  float64\n",
      " 3   offer_type              62731 non-null  object \n",
      " 4   floor                   61246 non-null  float64\n",
      " 5   area                    61246 non-null  float64\n",
      " 6   rooms                   62731 non-null  int64  \n",
      " 7   offer_type_of_building  61246 non-null  object \n",
      " 8   market                  62731 non-null  object \n",
      " 9   city_name               62731 non-null  object \n",
      " 10  voivodeship             62731 non-null  object \n",
      " 11  month                   62731 non-null  object \n",
      " 12  year                    62731 non-null  int64  \n",
      " 13  population              62731 non-null  int64  \n",
      " 14  longitude               62731 non-null  float64\n",
      " 15  latitude                62731 non-null  float64\n",
      "dtypes: float64(6), int64(3), object(7)\n",
      "memory usage: 7.7+ MB\n"
     ]
    }
   ],
   "source": [
    "df_house.info()"
   ],
   "metadata": {
    "collapsed": false
   }
  },
  {
   "cell_type": "code",
   "execution_count": 5,
   "outputs": [
    {
     "data": {
      "text/plain": "offer_title                  0\nprice                        0\nprice_per_meter              0\noffer_type                   0\nfloor                     1485\narea                      1485\nrooms                        0\noffer_type_of_building    1485\nmarket                       0\ncity_name                    0\nvoivodeship                  0\nmonth                        0\nyear                         0\npopulation                   0\nlongitude                    0\nlatitude                     0\ndtype: int64"
     },
     "execution_count": 5,
     "metadata": {},
     "output_type": "execute_result"
    }
   ],
   "source": [
    "df_house.isna().sum()"
   ],
   "metadata": {
    "collapsed": false
   }
  },
  {
   "cell_type": "code",
   "execution_count": 6,
   "outputs": [
    {
     "data": {
      "text/plain": "offer_title               0\nprice                     0\nprice_per_meter           0\noffer_type                0\nfloor                     0\narea                      0\nrooms                     0\noffer_type_of_building    0\nmarket                    0\ncity_name                 0\nvoivodeship               0\nmonth                     0\nyear                      0\npopulation                0\nlongitude                 0\nlatitude                  0\ndtype: int64"
     },
     "execution_count": 6,
     "metadata": {},
     "output_type": "execute_result"
    }
   ],
   "source": [
    "df_house = df_house.dropna()\n",
    "df_house.isna().sum()"
   ],
   "metadata": {
    "collapsed": false
   }
  },
  {
   "cell_type": "code",
   "execution_count": 7,
   "outputs": [],
   "source": [
    "pd.set_option('display.float_format',lambda x: '%.5f' % x)"
   ],
   "metadata": {
    "collapsed": false
   }
  },
  {
   "cell_type": "code",
   "execution_count": 8,
   "outputs": [
    {
     "data": {
      "text/plain": "                price  price_per_meter       floor         area       rooms  \\\ncount     61246.00000      61246.00000 61246.00000  61246.00000 61246.00000   \nmean     398999.68544       7582.48766     2.39903     91.29966     2.51233   \nstd     2048308.34199      36871.27928     2.14891   3155.85101     0.82406   \nmin           1.00000          0.02000    -1.00000      1.00000     1.00000   \n25%      260000.00000       5257.83000     1.00000     42.00000     2.00000   \n50%      345000.00000       6587.86500     2.00000     51.17000     2.00000   \n75%      460000.00000       8775.51000     3.00000     63.00000     3.00000   \nmax   504151616.00000    9002707.43000    11.00000 399000.00000     4.00000   \n\n             year    population   longitude    latitude  \ncount 61246.00000   61246.00000 61246.00000 61246.00000  \nmean   2022.00000  314611.13150    19.15659    51.82203  \nstd       0.00000  453265.91052     2.13912     1.32426  \nmin    2022.00000    1328.00000    14.25107    49.29694  \n25%    2022.00000   33967.00000    17.56150    50.68711  \n50%    2022.00000  103997.00000    19.27216    51.76873  \n75%    2022.00000  402465.00000    20.93083    52.84846  \nmax    2022.00000 1744351.00000    23.88738    54.79013  ",
      "text/html": "<div>\n<style scoped>\n    .dataframe tbody tr th:only-of-type {\n        vertical-align: middle;\n    }\n\n    .dataframe tbody tr th {\n        vertical-align: top;\n    }\n\n    .dataframe thead th {\n        text-align: right;\n    }\n</style>\n<table border=\"1\" class=\"dataframe\">\n  <thead>\n    <tr style=\"text-align: right;\">\n      <th></th>\n      <th>price</th>\n      <th>price_per_meter</th>\n      <th>floor</th>\n      <th>area</th>\n      <th>rooms</th>\n      <th>year</th>\n      <th>population</th>\n      <th>longitude</th>\n      <th>latitude</th>\n    </tr>\n  </thead>\n  <tbody>\n    <tr>\n      <th>count</th>\n      <td>61246.00000</td>\n      <td>61246.00000</td>\n      <td>61246.00000</td>\n      <td>61246.00000</td>\n      <td>61246.00000</td>\n      <td>61246.00000</td>\n      <td>61246.00000</td>\n      <td>61246.00000</td>\n      <td>61246.00000</td>\n    </tr>\n    <tr>\n      <th>mean</th>\n      <td>398999.68544</td>\n      <td>7582.48766</td>\n      <td>2.39903</td>\n      <td>91.29966</td>\n      <td>2.51233</td>\n      <td>2022.00000</td>\n      <td>314611.13150</td>\n      <td>19.15659</td>\n      <td>51.82203</td>\n    </tr>\n    <tr>\n      <th>std</th>\n      <td>2048308.34199</td>\n      <td>36871.27928</td>\n      <td>2.14891</td>\n      <td>3155.85101</td>\n      <td>0.82406</td>\n      <td>0.00000</td>\n      <td>453265.91052</td>\n      <td>2.13912</td>\n      <td>1.32426</td>\n    </tr>\n    <tr>\n      <th>min</th>\n      <td>1.00000</td>\n      <td>0.02000</td>\n      <td>-1.00000</td>\n      <td>1.00000</td>\n      <td>1.00000</td>\n      <td>2022.00000</td>\n      <td>1328.00000</td>\n      <td>14.25107</td>\n      <td>49.29694</td>\n    </tr>\n    <tr>\n      <th>25%</th>\n      <td>260000.00000</td>\n      <td>5257.83000</td>\n      <td>1.00000</td>\n      <td>42.00000</td>\n      <td>2.00000</td>\n      <td>2022.00000</td>\n      <td>33967.00000</td>\n      <td>17.56150</td>\n      <td>50.68711</td>\n    </tr>\n    <tr>\n      <th>50%</th>\n      <td>345000.00000</td>\n      <td>6587.86500</td>\n      <td>2.00000</td>\n      <td>51.17000</td>\n      <td>2.00000</td>\n      <td>2022.00000</td>\n      <td>103997.00000</td>\n      <td>19.27216</td>\n      <td>51.76873</td>\n    </tr>\n    <tr>\n      <th>75%</th>\n      <td>460000.00000</td>\n      <td>8775.51000</td>\n      <td>3.00000</td>\n      <td>63.00000</td>\n      <td>3.00000</td>\n      <td>2022.00000</td>\n      <td>402465.00000</td>\n      <td>20.93083</td>\n      <td>52.84846</td>\n    </tr>\n    <tr>\n      <th>max</th>\n      <td>504151616.00000</td>\n      <td>9002707.43000</td>\n      <td>11.00000</td>\n      <td>399000.00000</td>\n      <td>4.00000</td>\n      <td>2022.00000</td>\n      <td>1744351.00000</td>\n      <td>23.88738</td>\n      <td>54.79013</td>\n    </tr>\n  </tbody>\n</table>\n</div>"
     },
     "execution_count": 8,
     "metadata": {},
     "output_type": "execute_result"
    }
   ],
   "source": [
    "df_house.describe()"
   ],
   "metadata": {
    "collapsed": false
   }
  },
  {
   "cell_type": "code",
   "execution_count": 9,
   "outputs": [
    {
     "data": {
      "text/plain": "                offer_title offer_type offer_type_of_building       market  \\\ncount                 61246      61246                  61246        61246   \nunique                28489          2                      5            2   \ntop     Sprzedam mieszkanie    Private          Housing Block  aftermarket   \nfreq                   1815      44476                  43800        53944   \n\n       city_name voivodeship  month  \ncount      61246       61246  61246  \nunique       609          16      3  \ntop     Warszawa     Masovia  March  \nfreq        4157        9042  21357  ",
      "text/html": "<div>\n<style scoped>\n    .dataframe tbody tr th:only-of-type {\n        vertical-align: middle;\n    }\n\n    .dataframe tbody tr th {\n        vertical-align: top;\n    }\n\n    .dataframe thead th {\n        text-align: right;\n    }\n</style>\n<table border=\"1\" class=\"dataframe\">\n  <thead>\n    <tr style=\"text-align: right;\">\n      <th></th>\n      <th>offer_title</th>\n      <th>offer_type</th>\n      <th>offer_type_of_building</th>\n      <th>market</th>\n      <th>city_name</th>\n      <th>voivodeship</th>\n      <th>month</th>\n    </tr>\n  </thead>\n  <tbody>\n    <tr>\n      <th>count</th>\n      <td>61246</td>\n      <td>61246</td>\n      <td>61246</td>\n      <td>61246</td>\n      <td>61246</td>\n      <td>61246</td>\n      <td>61246</td>\n    </tr>\n    <tr>\n      <th>unique</th>\n      <td>28489</td>\n      <td>2</td>\n      <td>5</td>\n      <td>2</td>\n      <td>609</td>\n      <td>16</td>\n      <td>3</td>\n    </tr>\n    <tr>\n      <th>top</th>\n      <td>Sprzedam mieszkanie</td>\n      <td>Private</td>\n      <td>Housing Block</td>\n      <td>aftermarket</td>\n      <td>Warszawa</td>\n      <td>Masovia</td>\n      <td>March</td>\n    </tr>\n    <tr>\n      <th>freq</th>\n      <td>1815</td>\n      <td>44476</td>\n      <td>43800</td>\n      <td>53944</td>\n      <td>4157</td>\n      <td>9042</td>\n      <td>21357</td>\n    </tr>\n  </tbody>\n</table>\n</div>"
     },
     "execution_count": 9,
     "metadata": {},
     "output_type": "execute_result"
    }
   ],
   "source": [
    "df_house.describe(include='object')"
   ],
   "metadata": {
    "collapsed": false
   }
  },
  {
   "cell_type": "code",
   "execution_count": 10,
   "outputs": [
    {
     "data": {
      "text/plain": "                                             offer_title        price  \\\n51970          Leśniczówka - nowe mieszkania na sprzedaż   5800.00000   \n9281           Leśniczówka - nowe mieszkania na sprzedaż   5500.00000   \n30052  Park Chopina | 34-62 m2 | 1-3 pokoje | taras-b...   6200.00000   \n45585                             Mieszkania na parterze 285000.00000   \n56266  M-3 z loggią, 50,53 m2, pierwsze piętro, os. S... 265000.00000   \n...                                                  ...          ...   \n27663                    Mieszkanie 52m2 parter. Północ. 320000.00000   \n38482                    Mieszkanie 52m2 parter. Północ. 320000.00000   \n19465         Kawalerka pod klucz/Gotowiec inwestycyjny! 342020.00000   \n9169          Kawalerka pod klucz/Gotowiec inwestycyjny! 342020.00000   \n61548  SPRZEDAM mieszkanie 58m2 + piwnica 11m2. Zamkn... 399000.00000   \n\n       price_per_meter     offer_type   floor         area  rooms  \\\n51970       5800.00000  Estate Agency 3.00000      1.00000      1   \n9281        5500.00000  Estate Agency 3.00000      1.00000      1   \n30052       6200.00000  Estate Agency 3.00000      1.00000      1   \n45585     285000.00000  Estate Agency 0.00000      1.00000      2   \n56266     265000.00000  Estate Agency 1.00000      1.00000      2   \n...                ...            ...     ...          ...    ...   \n27663          1.00000        Private 0.00000 320000.00000      3   \n38482          1.00000        Private 0.00000 320000.00000      3   \n19465          1.00000  Estate Agency 2.00000 342020.00000      1   \n9169           1.00000  Estate Agency 2.00000 342020.00000      1   \n61548          1.00000        Private 2.00000 399000.00000      3   \n\n      offer_type_of_building       market            city_name  \\\n51970          Housing Block      primary              Świdwin   \n9281           Housing Block      primary              Świdwin   \n30052          Housing Block      primary  Tomaszów Mazowiecki   \n45585          Housing Block  aftermarket                Sanok   \n56266          Housing Block  aftermarket             Żyrardów   \n...                      ...          ...                  ...   \n27663          Housing Block  aftermarket              Suwałki   \n38482          Housing Block  aftermarket              Suwałki   \n19465     Apartment Building      primary              Wrocław   \n9169      Apartment Building      primary              Wrocław   \n61548          Housing Block  aftermarket             Nowogard   \n\n          voivodeship     month  year  population  longitude  latitude  \n51970  West Pomerania     March  2022       15725   15.77735  53.77470  \n9281   West Pomerania   January  2022       15725   15.77735  53.77470  \n30052         Lodzkie  February  2022       64893   20.00842  51.53169  \n45585    Subcarpathia     March  2022       39027   22.20703  49.56091  \n56266         Masovia     March  2022       41096   20.44350  52.05433  \n...               ...       ...   ...         ...        ...       ...  \n27663       Podlaskie  February  2022       69317   22.92794  54.09906  \n38482       Podlaskie  February  2022       69317   22.92794  54.09906  \n19465   Lower Silesia  February  2022      634487   17.03267  51.10898  \n9169    Lower Silesia   January  2022      634487   17.03267  51.10898  \n61548  West Pomerania     March  2022       16937   15.12259  53.66877  \n\n[61246 rows x 16 columns]",
      "text/html": "<div>\n<style scoped>\n    .dataframe tbody tr th:only-of-type {\n        vertical-align: middle;\n    }\n\n    .dataframe tbody tr th {\n        vertical-align: top;\n    }\n\n    .dataframe thead th {\n        text-align: right;\n    }\n</style>\n<table border=\"1\" class=\"dataframe\">\n  <thead>\n    <tr style=\"text-align: right;\">\n      <th></th>\n      <th>offer_title</th>\n      <th>price</th>\n      <th>price_per_meter</th>\n      <th>offer_type</th>\n      <th>floor</th>\n      <th>area</th>\n      <th>rooms</th>\n      <th>offer_type_of_building</th>\n      <th>market</th>\n      <th>city_name</th>\n      <th>voivodeship</th>\n      <th>month</th>\n      <th>year</th>\n      <th>population</th>\n      <th>longitude</th>\n      <th>latitude</th>\n    </tr>\n  </thead>\n  <tbody>\n    <tr>\n      <th>51970</th>\n      <td>Leśniczówka - nowe mieszkania na sprzedaż</td>\n      <td>5800.00000</td>\n      <td>5800.00000</td>\n      <td>Estate Agency</td>\n      <td>3.00000</td>\n      <td>1.00000</td>\n      <td>1</td>\n      <td>Housing Block</td>\n      <td>primary</td>\n      <td>Świdwin</td>\n      <td>West Pomerania</td>\n      <td>March</td>\n      <td>2022</td>\n      <td>15725</td>\n      <td>15.77735</td>\n      <td>53.77470</td>\n    </tr>\n    <tr>\n      <th>9281</th>\n      <td>Leśniczówka - nowe mieszkania na sprzedaż</td>\n      <td>5500.00000</td>\n      <td>5500.00000</td>\n      <td>Estate Agency</td>\n      <td>3.00000</td>\n      <td>1.00000</td>\n      <td>1</td>\n      <td>Housing Block</td>\n      <td>primary</td>\n      <td>Świdwin</td>\n      <td>West Pomerania</td>\n      <td>January</td>\n      <td>2022</td>\n      <td>15725</td>\n      <td>15.77735</td>\n      <td>53.77470</td>\n    </tr>\n    <tr>\n      <th>30052</th>\n      <td>Park Chopina | 34-62 m2 | 1-3 pokoje | taras-b...</td>\n      <td>6200.00000</td>\n      <td>6200.00000</td>\n      <td>Estate Agency</td>\n      <td>3.00000</td>\n      <td>1.00000</td>\n      <td>1</td>\n      <td>Housing Block</td>\n      <td>primary</td>\n      <td>Tomaszów Mazowiecki</td>\n      <td>Lodzkie</td>\n      <td>February</td>\n      <td>2022</td>\n      <td>64893</td>\n      <td>20.00842</td>\n      <td>51.53169</td>\n    </tr>\n    <tr>\n      <th>45585</th>\n      <td>Mieszkania na parterze</td>\n      <td>285000.00000</td>\n      <td>285000.00000</td>\n      <td>Estate Agency</td>\n      <td>0.00000</td>\n      <td>1.00000</td>\n      <td>2</td>\n      <td>Housing Block</td>\n      <td>aftermarket</td>\n      <td>Sanok</td>\n      <td>Subcarpathia</td>\n      <td>March</td>\n      <td>2022</td>\n      <td>39027</td>\n      <td>22.20703</td>\n      <td>49.56091</td>\n    </tr>\n    <tr>\n      <th>56266</th>\n      <td>M-3 z loggią, 50,53 m2, pierwsze piętro, os. S...</td>\n      <td>265000.00000</td>\n      <td>265000.00000</td>\n      <td>Estate Agency</td>\n      <td>1.00000</td>\n      <td>1.00000</td>\n      <td>2</td>\n      <td>Housing Block</td>\n      <td>aftermarket</td>\n      <td>Żyrardów</td>\n      <td>Masovia</td>\n      <td>March</td>\n      <td>2022</td>\n      <td>41096</td>\n      <td>20.44350</td>\n      <td>52.05433</td>\n    </tr>\n    <tr>\n      <th>...</th>\n      <td>...</td>\n      <td>...</td>\n      <td>...</td>\n      <td>...</td>\n      <td>...</td>\n      <td>...</td>\n      <td>...</td>\n      <td>...</td>\n      <td>...</td>\n      <td>...</td>\n      <td>...</td>\n      <td>...</td>\n      <td>...</td>\n      <td>...</td>\n      <td>...</td>\n      <td>...</td>\n    </tr>\n    <tr>\n      <th>27663</th>\n      <td>Mieszkanie 52m2 parter. Północ.</td>\n      <td>320000.00000</td>\n      <td>1.00000</td>\n      <td>Private</td>\n      <td>0.00000</td>\n      <td>320000.00000</td>\n      <td>3</td>\n      <td>Housing Block</td>\n      <td>aftermarket</td>\n      <td>Suwałki</td>\n      <td>Podlaskie</td>\n      <td>February</td>\n      <td>2022</td>\n      <td>69317</td>\n      <td>22.92794</td>\n      <td>54.09906</td>\n    </tr>\n    <tr>\n      <th>38482</th>\n      <td>Mieszkanie 52m2 parter. Północ.</td>\n      <td>320000.00000</td>\n      <td>1.00000</td>\n      <td>Private</td>\n      <td>0.00000</td>\n      <td>320000.00000</td>\n      <td>3</td>\n      <td>Housing Block</td>\n      <td>aftermarket</td>\n      <td>Suwałki</td>\n      <td>Podlaskie</td>\n      <td>February</td>\n      <td>2022</td>\n      <td>69317</td>\n      <td>22.92794</td>\n      <td>54.09906</td>\n    </tr>\n    <tr>\n      <th>19465</th>\n      <td>Kawalerka pod klucz/Gotowiec inwestycyjny!</td>\n      <td>342020.00000</td>\n      <td>1.00000</td>\n      <td>Estate Agency</td>\n      <td>2.00000</td>\n      <td>342020.00000</td>\n      <td>1</td>\n      <td>Apartment Building</td>\n      <td>primary</td>\n      <td>Wrocław</td>\n      <td>Lower Silesia</td>\n      <td>February</td>\n      <td>2022</td>\n      <td>634487</td>\n      <td>17.03267</td>\n      <td>51.10898</td>\n    </tr>\n    <tr>\n      <th>9169</th>\n      <td>Kawalerka pod klucz/Gotowiec inwestycyjny!</td>\n      <td>342020.00000</td>\n      <td>1.00000</td>\n      <td>Estate Agency</td>\n      <td>2.00000</td>\n      <td>342020.00000</td>\n      <td>1</td>\n      <td>Apartment Building</td>\n      <td>primary</td>\n      <td>Wrocław</td>\n      <td>Lower Silesia</td>\n      <td>January</td>\n      <td>2022</td>\n      <td>634487</td>\n      <td>17.03267</td>\n      <td>51.10898</td>\n    </tr>\n    <tr>\n      <th>61548</th>\n      <td>SPRZEDAM mieszkanie 58m2 + piwnica 11m2. Zamkn...</td>\n      <td>399000.00000</td>\n      <td>1.00000</td>\n      <td>Private</td>\n      <td>2.00000</td>\n      <td>399000.00000</td>\n      <td>3</td>\n      <td>Housing Block</td>\n      <td>aftermarket</td>\n      <td>Nowogard</td>\n      <td>West Pomerania</td>\n      <td>March</td>\n      <td>2022</td>\n      <td>16937</td>\n      <td>15.12259</td>\n      <td>53.66877</td>\n    </tr>\n  </tbody>\n</table>\n<p>61246 rows × 16 columns</p>\n</div>"
     },
     "execution_count": 10,
     "metadata": {},
     "output_type": "execute_result"
    }
   ],
   "source": [
    "df_house.sort_values('area')"
   ],
   "metadata": {
    "collapsed": false
   }
  },
  {
   "cell_type": "code",
   "execution_count": 12,
   "outputs": [
    {
     "data": {
      "text/plain": "                                             offer_title        price  \\\n61548  SPRZEDAM mieszkanie 58m2 + piwnica 11m2. Zamkn... 399000.00000   \n9169          Kawalerka pod klucz/Gotowiec inwestycyjny! 342020.00000   \n19465         Kawalerka pod klucz/Gotowiec inwestycyjny! 342020.00000   \n27663                    Mieszkanie 52m2 parter. Północ. 320000.00000   \n38482                    Mieszkanie 52m2 parter. Północ. 320000.00000   \n...                                                  ...          ...   \n34405  M- 3 z loggią 50.53 m2, 1 piętro, oś. Spółdzie... 285000.00000   \n34608                             Mieszkania na parterze 285000.00000   \n38238  M-4 z balkonem 63 m2,  drugie piętro w Housing... 389000.00000   \n10931  M-2 z balkonem 32,50 m2, parter os. Spółdzielcza. 229000.00000   \n9281           Leśniczówka - nowe mieszkania na sprzedaż   5500.00000   \n\n       price_per_meter     offer_type   floor         area  rooms  \\\n61548          1.00000        Private 2.00000 399000.00000      3   \n9169           1.00000  Estate Agency 2.00000 342020.00000      1   \n19465          1.00000  Estate Agency 2.00000 342020.00000      1   \n27663          1.00000        Private 0.00000 320000.00000      3   \n38482          1.00000        Private 0.00000 320000.00000      3   \n...                ...            ...     ...          ...    ...   \n34405     285000.00000  Estate Agency 1.00000      1.00000      2   \n34608     285000.00000  Estate Agency 0.00000      1.00000      2   \n38238     389000.00000  Estate Agency 2.00000      1.00000      3   \n10931     229000.00000  Estate Agency 0.00000      1.00000      1   \n9281        5500.00000  Estate Agency 3.00000      1.00000      1   \n\n      offer_type_of_building       market city_name     voivodeship     month  \\\n61548          Housing Block  aftermarket  Nowogard  West Pomerania     March   \n9169      Apartment Building      primary   Wrocław   Lower Silesia   January   \n19465     Apartment Building      primary   Wrocław   Lower Silesia  February   \n27663          Housing Block  aftermarket   Suwałki       Podlaskie  February   \n38482          Housing Block  aftermarket   Suwałki       Podlaskie  February   \n...                      ...          ...       ...             ...       ...   \n34405          Housing Block  aftermarket  Żyrardów         Masovia  February   \n34608          Housing Block  aftermarket     Sanok    Subcarpathia  February   \n38238          Housing Block  aftermarket  Żyrardów         Masovia  February   \n10931          Housing Block  aftermarket  Żyrardów         Masovia   January   \n9281           Housing Block      primary   Świdwin  West Pomerania   January   \n\n       year  population  longitude  latitude  \n61548  2022       16937   15.12259  53.66877  \n9169   2022      634487   17.03267  51.10898  \n19465  2022      634487   17.03267  51.10898  \n27663  2022       69317   22.92794  54.09906  \n38482  2022       69317   22.92794  54.09906  \n...     ...         ...        ...       ...  \n34405  2022       41096   20.44350  52.05433  \n34608  2022       39027   22.20703  49.56091  \n38238  2022       41096   20.44350  52.05433  \n10931  2022       41096   20.44350  52.05433  \n9281   2022       15725   15.77735  53.77470  \n\n[61246 rows x 16 columns]",
      "text/html": "<div>\n<style scoped>\n    .dataframe tbody tr th:only-of-type {\n        vertical-align: middle;\n    }\n\n    .dataframe tbody tr th {\n        vertical-align: top;\n    }\n\n    .dataframe thead th {\n        text-align: right;\n    }\n</style>\n<table border=\"1\" class=\"dataframe\">\n  <thead>\n    <tr style=\"text-align: right;\">\n      <th></th>\n      <th>offer_title</th>\n      <th>price</th>\n      <th>price_per_meter</th>\n      <th>offer_type</th>\n      <th>floor</th>\n      <th>area</th>\n      <th>rooms</th>\n      <th>offer_type_of_building</th>\n      <th>market</th>\n      <th>city_name</th>\n      <th>voivodeship</th>\n      <th>month</th>\n      <th>year</th>\n      <th>population</th>\n      <th>longitude</th>\n      <th>latitude</th>\n    </tr>\n  </thead>\n  <tbody>\n    <tr>\n      <th>61548</th>\n      <td>SPRZEDAM mieszkanie 58m2 + piwnica 11m2. Zamkn...</td>\n      <td>399000.00000</td>\n      <td>1.00000</td>\n      <td>Private</td>\n      <td>2.00000</td>\n      <td>399000.00000</td>\n      <td>3</td>\n      <td>Housing Block</td>\n      <td>aftermarket</td>\n      <td>Nowogard</td>\n      <td>West Pomerania</td>\n      <td>March</td>\n      <td>2022</td>\n      <td>16937</td>\n      <td>15.12259</td>\n      <td>53.66877</td>\n    </tr>\n    <tr>\n      <th>9169</th>\n      <td>Kawalerka pod klucz/Gotowiec inwestycyjny!</td>\n      <td>342020.00000</td>\n      <td>1.00000</td>\n      <td>Estate Agency</td>\n      <td>2.00000</td>\n      <td>342020.00000</td>\n      <td>1</td>\n      <td>Apartment Building</td>\n      <td>primary</td>\n      <td>Wrocław</td>\n      <td>Lower Silesia</td>\n      <td>January</td>\n      <td>2022</td>\n      <td>634487</td>\n      <td>17.03267</td>\n      <td>51.10898</td>\n    </tr>\n    <tr>\n      <th>19465</th>\n      <td>Kawalerka pod klucz/Gotowiec inwestycyjny!</td>\n      <td>342020.00000</td>\n      <td>1.00000</td>\n      <td>Estate Agency</td>\n      <td>2.00000</td>\n      <td>342020.00000</td>\n      <td>1</td>\n      <td>Apartment Building</td>\n      <td>primary</td>\n      <td>Wrocław</td>\n      <td>Lower Silesia</td>\n      <td>February</td>\n      <td>2022</td>\n      <td>634487</td>\n      <td>17.03267</td>\n      <td>51.10898</td>\n    </tr>\n    <tr>\n      <th>27663</th>\n      <td>Mieszkanie 52m2 parter. Północ.</td>\n      <td>320000.00000</td>\n      <td>1.00000</td>\n      <td>Private</td>\n      <td>0.00000</td>\n      <td>320000.00000</td>\n      <td>3</td>\n      <td>Housing Block</td>\n      <td>aftermarket</td>\n      <td>Suwałki</td>\n      <td>Podlaskie</td>\n      <td>February</td>\n      <td>2022</td>\n      <td>69317</td>\n      <td>22.92794</td>\n      <td>54.09906</td>\n    </tr>\n    <tr>\n      <th>38482</th>\n      <td>Mieszkanie 52m2 parter. Północ.</td>\n      <td>320000.00000</td>\n      <td>1.00000</td>\n      <td>Private</td>\n      <td>0.00000</td>\n      <td>320000.00000</td>\n      <td>3</td>\n      <td>Housing Block</td>\n      <td>aftermarket</td>\n      <td>Suwałki</td>\n      <td>Podlaskie</td>\n      <td>February</td>\n      <td>2022</td>\n      <td>69317</td>\n      <td>22.92794</td>\n      <td>54.09906</td>\n    </tr>\n    <tr>\n      <th>...</th>\n      <td>...</td>\n      <td>...</td>\n      <td>...</td>\n      <td>...</td>\n      <td>...</td>\n      <td>...</td>\n      <td>...</td>\n      <td>...</td>\n      <td>...</td>\n      <td>...</td>\n      <td>...</td>\n      <td>...</td>\n      <td>...</td>\n      <td>...</td>\n      <td>...</td>\n      <td>...</td>\n    </tr>\n    <tr>\n      <th>34405</th>\n      <td>M- 3 z loggią 50.53 m2, 1 piętro, oś. Spółdzie...</td>\n      <td>285000.00000</td>\n      <td>285000.00000</td>\n      <td>Estate Agency</td>\n      <td>1.00000</td>\n      <td>1.00000</td>\n      <td>2</td>\n      <td>Housing Block</td>\n      <td>aftermarket</td>\n      <td>Żyrardów</td>\n      <td>Masovia</td>\n      <td>February</td>\n      <td>2022</td>\n      <td>41096</td>\n      <td>20.44350</td>\n      <td>52.05433</td>\n    </tr>\n    <tr>\n      <th>34608</th>\n      <td>Mieszkania na parterze</td>\n      <td>285000.00000</td>\n      <td>285000.00000</td>\n      <td>Estate Agency</td>\n      <td>0.00000</td>\n      <td>1.00000</td>\n      <td>2</td>\n      <td>Housing Block</td>\n      <td>aftermarket</td>\n      <td>Sanok</td>\n      <td>Subcarpathia</td>\n      <td>February</td>\n      <td>2022</td>\n      <td>39027</td>\n      <td>22.20703</td>\n      <td>49.56091</td>\n    </tr>\n    <tr>\n      <th>38238</th>\n      <td>M-4 z balkonem 63 m2,  drugie piętro w Housing...</td>\n      <td>389000.00000</td>\n      <td>389000.00000</td>\n      <td>Estate Agency</td>\n      <td>2.00000</td>\n      <td>1.00000</td>\n      <td>3</td>\n      <td>Housing Block</td>\n      <td>aftermarket</td>\n      <td>Żyrardów</td>\n      <td>Masovia</td>\n      <td>February</td>\n      <td>2022</td>\n      <td>41096</td>\n      <td>20.44350</td>\n      <td>52.05433</td>\n    </tr>\n    <tr>\n      <th>10931</th>\n      <td>M-2 z balkonem 32,50 m2, parter os. Spółdzielcza.</td>\n      <td>229000.00000</td>\n      <td>229000.00000</td>\n      <td>Estate Agency</td>\n      <td>0.00000</td>\n      <td>1.00000</td>\n      <td>1</td>\n      <td>Housing Block</td>\n      <td>aftermarket</td>\n      <td>Żyrardów</td>\n      <td>Masovia</td>\n      <td>January</td>\n      <td>2022</td>\n      <td>41096</td>\n      <td>20.44350</td>\n      <td>52.05433</td>\n    </tr>\n    <tr>\n      <th>9281</th>\n      <td>Leśniczówka - nowe mieszkania na sprzedaż</td>\n      <td>5500.00000</td>\n      <td>5500.00000</td>\n      <td>Estate Agency</td>\n      <td>3.00000</td>\n      <td>1.00000</td>\n      <td>1</td>\n      <td>Housing Block</td>\n      <td>primary</td>\n      <td>Świdwin</td>\n      <td>West Pomerania</td>\n      <td>January</td>\n      <td>2022</td>\n      <td>15725</td>\n      <td>15.77735</td>\n      <td>53.77470</td>\n    </tr>\n  </tbody>\n</table>\n<p>61246 rows × 16 columns</p>\n</div>"
     },
     "execution_count": 12,
     "metadata": {},
     "output_type": "execute_result"
    }
   ],
   "source": [
    "df_house.sort_values('area',ascending=False)"
   ],
   "metadata": {
    "collapsed": false
   }
  },
  {
   "cell_type": "code",
   "execution_count": 16,
   "outputs": [],
   "source": [
    "df_house = df_house[(df_house['area']>10) & (df_house['area']<300)]"
   ],
   "metadata": {
    "collapsed": false
   }
  },
  {
   "cell_type": "code",
   "execution_count": 17,
   "outputs": [
    {
     "data": {
      "text/plain": "                                             offer_title        price  \\\n0                                  Kawalerka na sprzedaż 240000.00000   \n1      Nowoczesna kawalerka z winda plus garaż podziemny 250000.00000   \n2            Nowa kawalerka z Balkonem/Legnicka/Magnolia 259000.00000   \n3      Kawalerka z balkonem/klucze I kwartał 2022/60 ... 269000.00000   \n4      40 tys. taniej od dewelopera/Kawalerka/Magnoli... 258000.00000   \n...                                                  ...          ...   \n62726                  Mieszkanie 4-pokojowe 57m2 parter 230000.00000   \n62727  Mieszkanie 4-pokojowe spółdz. własność. z umeb... 390000.00000   \n62728                     Mieszkanie z lokalem użytkowym 330000.00000   \n62729                        Mieszkanie 80m2  przy lesie 830000.00000   \n62730  Duże, komfortowe mieszkanie blisko Parku Zdroj... 990000.00000   \n\n       price_per_meter     offer_type   floor      area  rooms  \\\n0           8888.89000        Private 1.00000  27.00000      1   \n1           7142.86000        Private 1.00000  35.00000      1   \n2          10360.00000  Estate Agency 2.00000  25.00000      1   \n3          10275.02000        Private 3.00000  26.18000      1   \n4           9923.08000  Estate Agency 3.00000  26.00000      1   \n...                ...            ...     ...       ...    ...   \n62726       4035.09000        Private 0.00000  57.00000      4   \n62727       5735.29000        Private 1.00000  68.00000      4   \n62728       2704.92000        Private 1.00000 122.00000      4   \n62729      10375.00000        Private 1.00000  80.00000      4   \n62730       9437.56000        Private 3.00000 104.90000      4   \n\n      offer_type_of_building       market        city_name     voivodeship  \\\n0              Housing Block      primary      Bolesławiec   Lower Silesia   \n1              Housing Block      primary  Jelcz-Laskowice   Lower Silesia   \n2              Housing Block      primary          Wrocław   Lower Silesia   \n3         Apartment Building      primary          Wrocław   Lower Silesia   \n4              Housing Block      primary          Wrocław   Lower Silesia   \n...                      ...          ...              ...             ...   \n62726          Housing Block  aftermarket       Złocieniec  West Pomerania   \n62727          Housing Block  aftermarket            Łobez  West Pomerania   \n62728                  Other  aftermarket          Świdwin  West Pomerania   \n62729          Housing Block  aftermarket      Świnoujście  West Pomerania   \n62730          Housing Block  aftermarket      Świnoujście  West Pomerania   \n\n         month  year  population  longitude  latitude  \n0      January  2022       39603   15.56510  51.26303  \n1      January  2022       15828   17.34996  51.03983  \n2      January  2022      634487   17.03267  51.10898  \n3      January  2022      634487   17.03267  51.10898  \n4      January  2022      634487   17.03267  51.10898  \n...        ...   ...         ...        ...       ...  \n62726    March  2022       13224   16.01207  53.53107  \n62727    March  2022       10438   15.62135  53.63912  \n62728    March  2022       15725   15.77735  53.77470  \n62729    March  2022       41371   14.25107  53.90975  \n62730    March  2022       41371   14.25107  53.90975  \n\n[61080 rows x 16 columns]",
      "text/html": "<div>\n<style scoped>\n    .dataframe tbody tr th:only-of-type {\n        vertical-align: middle;\n    }\n\n    .dataframe tbody tr th {\n        vertical-align: top;\n    }\n\n    .dataframe thead th {\n        text-align: right;\n    }\n</style>\n<table border=\"1\" class=\"dataframe\">\n  <thead>\n    <tr style=\"text-align: right;\">\n      <th></th>\n      <th>offer_title</th>\n      <th>price</th>\n      <th>price_per_meter</th>\n      <th>offer_type</th>\n      <th>floor</th>\n      <th>area</th>\n      <th>rooms</th>\n      <th>offer_type_of_building</th>\n      <th>market</th>\n      <th>city_name</th>\n      <th>voivodeship</th>\n      <th>month</th>\n      <th>year</th>\n      <th>population</th>\n      <th>longitude</th>\n      <th>latitude</th>\n    </tr>\n  </thead>\n  <tbody>\n    <tr>\n      <th>0</th>\n      <td>Kawalerka na sprzedaż</td>\n      <td>240000.00000</td>\n      <td>8888.89000</td>\n      <td>Private</td>\n      <td>1.00000</td>\n      <td>27.00000</td>\n      <td>1</td>\n      <td>Housing Block</td>\n      <td>primary</td>\n      <td>Bolesławiec</td>\n      <td>Lower Silesia</td>\n      <td>January</td>\n      <td>2022</td>\n      <td>39603</td>\n      <td>15.56510</td>\n      <td>51.26303</td>\n    </tr>\n    <tr>\n      <th>1</th>\n      <td>Nowoczesna kawalerka z winda plus garaż podziemny</td>\n      <td>250000.00000</td>\n      <td>7142.86000</td>\n      <td>Private</td>\n      <td>1.00000</td>\n      <td>35.00000</td>\n      <td>1</td>\n      <td>Housing Block</td>\n      <td>primary</td>\n      <td>Jelcz-Laskowice</td>\n      <td>Lower Silesia</td>\n      <td>January</td>\n      <td>2022</td>\n      <td>15828</td>\n      <td>17.34996</td>\n      <td>51.03983</td>\n    </tr>\n    <tr>\n      <th>2</th>\n      <td>Nowa kawalerka z Balkonem/Legnicka/Magnolia</td>\n      <td>259000.00000</td>\n      <td>10360.00000</td>\n      <td>Estate Agency</td>\n      <td>2.00000</td>\n      <td>25.00000</td>\n      <td>1</td>\n      <td>Housing Block</td>\n      <td>primary</td>\n      <td>Wrocław</td>\n      <td>Lower Silesia</td>\n      <td>January</td>\n      <td>2022</td>\n      <td>634487</td>\n      <td>17.03267</td>\n      <td>51.10898</td>\n    </tr>\n    <tr>\n      <th>3</th>\n      <td>Kawalerka z balkonem/klucze I kwartał 2022/60 ...</td>\n      <td>269000.00000</td>\n      <td>10275.02000</td>\n      <td>Private</td>\n      <td>3.00000</td>\n      <td>26.18000</td>\n      <td>1</td>\n      <td>Apartment Building</td>\n      <td>primary</td>\n      <td>Wrocław</td>\n      <td>Lower Silesia</td>\n      <td>January</td>\n      <td>2022</td>\n      <td>634487</td>\n      <td>17.03267</td>\n      <td>51.10898</td>\n    </tr>\n    <tr>\n      <th>4</th>\n      <td>40 tys. taniej od dewelopera/Kawalerka/Magnoli...</td>\n      <td>258000.00000</td>\n      <td>9923.08000</td>\n      <td>Estate Agency</td>\n      <td>3.00000</td>\n      <td>26.00000</td>\n      <td>1</td>\n      <td>Housing Block</td>\n      <td>primary</td>\n      <td>Wrocław</td>\n      <td>Lower Silesia</td>\n      <td>January</td>\n      <td>2022</td>\n      <td>634487</td>\n      <td>17.03267</td>\n      <td>51.10898</td>\n    </tr>\n    <tr>\n      <th>...</th>\n      <td>...</td>\n      <td>...</td>\n      <td>...</td>\n      <td>...</td>\n      <td>...</td>\n      <td>...</td>\n      <td>...</td>\n      <td>...</td>\n      <td>...</td>\n      <td>...</td>\n      <td>...</td>\n      <td>...</td>\n      <td>...</td>\n      <td>...</td>\n      <td>...</td>\n      <td>...</td>\n    </tr>\n    <tr>\n      <th>62726</th>\n      <td>Mieszkanie 4-pokojowe 57m2 parter</td>\n      <td>230000.00000</td>\n      <td>4035.09000</td>\n      <td>Private</td>\n      <td>0.00000</td>\n      <td>57.00000</td>\n      <td>4</td>\n      <td>Housing Block</td>\n      <td>aftermarket</td>\n      <td>Złocieniec</td>\n      <td>West Pomerania</td>\n      <td>March</td>\n      <td>2022</td>\n      <td>13224</td>\n      <td>16.01207</td>\n      <td>53.53107</td>\n    </tr>\n    <tr>\n      <th>62727</th>\n      <td>Mieszkanie 4-pokojowe spółdz. własność. z umeb...</td>\n      <td>390000.00000</td>\n      <td>5735.29000</td>\n      <td>Private</td>\n      <td>1.00000</td>\n      <td>68.00000</td>\n      <td>4</td>\n      <td>Housing Block</td>\n      <td>aftermarket</td>\n      <td>Łobez</td>\n      <td>West Pomerania</td>\n      <td>March</td>\n      <td>2022</td>\n      <td>10438</td>\n      <td>15.62135</td>\n      <td>53.63912</td>\n    </tr>\n    <tr>\n      <th>62728</th>\n      <td>Mieszkanie z lokalem użytkowym</td>\n      <td>330000.00000</td>\n      <td>2704.92000</td>\n      <td>Private</td>\n      <td>1.00000</td>\n      <td>122.00000</td>\n      <td>4</td>\n      <td>Other</td>\n      <td>aftermarket</td>\n      <td>Świdwin</td>\n      <td>West Pomerania</td>\n      <td>March</td>\n      <td>2022</td>\n      <td>15725</td>\n      <td>15.77735</td>\n      <td>53.77470</td>\n    </tr>\n    <tr>\n      <th>62729</th>\n      <td>Mieszkanie 80m2  przy lesie</td>\n      <td>830000.00000</td>\n      <td>10375.00000</td>\n      <td>Private</td>\n      <td>1.00000</td>\n      <td>80.00000</td>\n      <td>4</td>\n      <td>Housing Block</td>\n      <td>aftermarket</td>\n      <td>Świnoujście</td>\n      <td>West Pomerania</td>\n      <td>March</td>\n      <td>2022</td>\n      <td>41371</td>\n      <td>14.25107</td>\n      <td>53.90975</td>\n    </tr>\n    <tr>\n      <th>62730</th>\n      <td>Duże, komfortowe mieszkanie blisko Parku Zdroj...</td>\n      <td>990000.00000</td>\n      <td>9437.56000</td>\n      <td>Private</td>\n      <td>3.00000</td>\n      <td>104.90000</td>\n      <td>4</td>\n      <td>Housing Block</td>\n      <td>aftermarket</td>\n      <td>Świnoujście</td>\n      <td>West Pomerania</td>\n      <td>March</td>\n      <td>2022</td>\n      <td>41371</td>\n      <td>14.25107</td>\n      <td>53.90975</td>\n    </tr>\n  </tbody>\n</table>\n<p>61080 rows × 16 columns</p>\n</div>"
     },
     "execution_count": 17,
     "metadata": {},
     "output_type": "execute_result"
    }
   ],
   "source": [
    "df_house"
   ],
   "metadata": {
    "collapsed": false
   }
  },
  {
   "cell_type": "code",
   "execution_count": 18,
   "outputs": [
    {
     "data": {
      "text/plain": "                price  price_per_meter       floor        area       rooms  \\\ncount     61080.00000      61080.00000 61080.00000 61080.00000 61080.00000   \nmean     397999.37666       7479.30771     2.40033    54.61850     2.51208   \nstd     2049915.48342      36539.47469     2.14980    19.99929     0.82295   \nmin           1.00000          0.02000    -1.00000    11.00000     1.00000   \n25%      260000.00000       5264.17000     1.00000    42.00000     2.00000   \n50%      345000.00000       6593.83500     2.00000    51.10000     2.00000   \n75%      460000.00000       8775.51000     3.00000    63.00000     3.00000   \nmax   504151616.00000    9002707.43000    11.00000   298.35000     4.00000   \n\n             year    population   longitude    latitude  \ncount 61080.00000   61080.00000 61080.00000 61080.00000  \nmean   2022.00000  314751.93862    19.15705    51.82204  \nstd       0.00000  453117.73754     2.13882     1.32365  \nmin    2022.00000    1328.00000    14.25107    49.29694  \n25%    2022.00000   33967.00000    17.56523    50.68711  \n50%    2022.00000  103997.00000    19.27216    51.76873  \n75%    2022.00000  402465.00000    20.93083    52.84739  \nmax    2022.00000 1744351.00000    23.88738    54.79013  ",
      "text/html": "<div>\n<style scoped>\n    .dataframe tbody tr th:only-of-type {\n        vertical-align: middle;\n    }\n\n    .dataframe tbody tr th {\n        vertical-align: top;\n    }\n\n    .dataframe thead th {\n        text-align: right;\n    }\n</style>\n<table border=\"1\" class=\"dataframe\">\n  <thead>\n    <tr style=\"text-align: right;\">\n      <th></th>\n      <th>price</th>\n      <th>price_per_meter</th>\n      <th>floor</th>\n      <th>area</th>\n      <th>rooms</th>\n      <th>year</th>\n      <th>population</th>\n      <th>longitude</th>\n      <th>latitude</th>\n    </tr>\n  </thead>\n  <tbody>\n    <tr>\n      <th>count</th>\n      <td>61080.00000</td>\n      <td>61080.00000</td>\n      <td>61080.00000</td>\n      <td>61080.00000</td>\n      <td>61080.00000</td>\n      <td>61080.00000</td>\n      <td>61080.00000</td>\n      <td>61080.00000</td>\n      <td>61080.00000</td>\n    </tr>\n    <tr>\n      <th>mean</th>\n      <td>397999.37666</td>\n      <td>7479.30771</td>\n      <td>2.40033</td>\n      <td>54.61850</td>\n      <td>2.51208</td>\n      <td>2022.00000</td>\n      <td>314751.93862</td>\n      <td>19.15705</td>\n      <td>51.82204</td>\n    </tr>\n    <tr>\n      <th>std</th>\n      <td>2049915.48342</td>\n      <td>36539.47469</td>\n      <td>2.14980</td>\n      <td>19.99929</td>\n      <td>0.82295</td>\n      <td>0.00000</td>\n      <td>453117.73754</td>\n      <td>2.13882</td>\n      <td>1.32365</td>\n    </tr>\n    <tr>\n      <th>min</th>\n      <td>1.00000</td>\n      <td>0.02000</td>\n      <td>-1.00000</td>\n      <td>11.00000</td>\n      <td>1.00000</td>\n      <td>2022.00000</td>\n      <td>1328.00000</td>\n      <td>14.25107</td>\n      <td>49.29694</td>\n    </tr>\n    <tr>\n      <th>25%</th>\n      <td>260000.00000</td>\n      <td>5264.17000</td>\n      <td>1.00000</td>\n      <td>42.00000</td>\n      <td>2.00000</td>\n      <td>2022.00000</td>\n      <td>33967.00000</td>\n      <td>17.56523</td>\n      <td>50.68711</td>\n    </tr>\n    <tr>\n      <th>50%</th>\n      <td>345000.00000</td>\n      <td>6593.83500</td>\n      <td>2.00000</td>\n      <td>51.10000</td>\n      <td>2.00000</td>\n      <td>2022.00000</td>\n      <td>103997.00000</td>\n      <td>19.27216</td>\n      <td>51.76873</td>\n    </tr>\n    <tr>\n      <th>75%</th>\n      <td>460000.00000</td>\n      <td>8775.51000</td>\n      <td>3.00000</td>\n      <td>63.00000</td>\n      <td>3.00000</td>\n      <td>2022.00000</td>\n      <td>402465.00000</td>\n      <td>20.93083</td>\n      <td>52.84739</td>\n    </tr>\n    <tr>\n      <th>max</th>\n      <td>504151616.00000</td>\n      <td>9002707.43000</td>\n      <td>11.00000</td>\n      <td>298.35000</td>\n      <td>4.00000</td>\n      <td>2022.00000</td>\n      <td>1744351.00000</td>\n      <td>23.88738</td>\n      <td>54.79013</td>\n    </tr>\n  </tbody>\n</table>\n</div>"
     },
     "execution_count": 18,
     "metadata": {},
     "output_type": "execute_result"
    }
   ],
   "source": [
    "df_house.describe()"
   ],
   "metadata": {
    "collapsed": false
   }
  },
  {
   "cell_type": "code",
   "execution_count": 19,
   "outputs": [
    {
     "data": {
      "text/plain": "                                             offer_title           price  \\\n30315         Mieszkanie Warka 45 m2 Odstąpię rezerwację         1.00000   \n40287                Sprzedm tanio... bez pośredników...         4.00000   \n40379  OKAZJA. Tylko 246 tys. zł. Nieruchomość na mie...       246.00000   \n404                          Dam odstępne za mieszkanie!       100.00000   \n2054                                  Zamiana Mieszkania       123.00000   \n...                                                  ...             ...   \n51502  Komfortowy,wyjątkowy apart.108m2,wyposażony,ul...   4500000.00000   \n35588                            Mieszkanie do sprzedaży   2800000.00000   \n29663                    4 pokojowe mieszkanie w slupsku   4440000.00000   \n52100                         Sprzedam mieszkanie -cesja   6580000.00000   \n36199      Okazja Pogodno 56 mkw z ogródkiem tylko u nas 504151616.00000   \n\n       price_per_meter     offer_type   floor      area  rooms  \\\n30315          0.02000        Private 3.00000  45.00000      2   \n40287          0.06000        Private 2.00000  62.00000      4   \n40379          1.76000  Estate Agency 0.00000 140.00000      4   \n404            2.00000        Private 1.00000  50.00000      2   \n2054           2.73000        Private 2.00000  45.00000      2   \n...                ...            ...     ...       ...    ...   \n51502      41666.67000  Estate Agency 4.00000 108.00000      4   \n35588      53742.80000        Private 2.00000  52.10000      2   \n29663      60000.00000        Private 4.00000  74.00000      4   \n52100     149545.45000        Private 1.00000  44.00000      2   \n36199    9002707.43000  Estate Agency 1.00000  56.00000      2   \n\n      offer_type_of_building       market         city_name     voivodeship  \\\n30315     Apartment Building      primary             Warka         Masovia   \n40287          Housing Block  aftermarket           Siedlce         Masovia   \n40379                  Other  aftermarket  Kędzierzyn-Koźle           Opole   \n404            Housing Block      primary            Zabrze         Silesia   \n2054           Housing Block  aftermarket       Lądek-Zdrój   Lower Silesia   \n...                      ...          ...               ...             ...   \n51502     Apartment Building  aftermarket            Gdańsk       Pomerania   \n35588               Tenement  aftermarket         Biskupiec  Warmia-Masuria   \n29663          Housing Block  aftermarket            Słupsk       Pomerania   \n52100          Housing Block      primary            Kraków   Lesser Poland   \n36199          Housing Block  aftermarket          Szczecin  West Pomerania   \n\n          month  year  population  longitude  latitude  \n30315  February  2022       11727   21.18338  51.78510  \n40287  February  2022       77102   22.27651  52.16638  \n40379  February  2022       63194   18.21096  50.34488  \n404     January  2022      178357   18.78637  50.30862  \n2054    January  2022        5917   16.87259  50.34583  \n...         ...   ...         ...        ...       ...  \n51502     March  2022      461935   18.65402  54.34829  \n35588  February  2022       10626   20.95518  53.86880  \n29663  February  2022       93936   17.02807  54.46493  \n52100     March  2022      762508   19.93686  50.06195  \n36199  February  2022      402465   14.55096  53.43018  \n\n[61080 rows x 16 columns]",
      "text/html": "<div>\n<style scoped>\n    .dataframe tbody tr th:only-of-type {\n        vertical-align: middle;\n    }\n\n    .dataframe tbody tr th {\n        vertical-align: top;\n    }\n\n    .dataframe thead th {\n        text-align: right;\n    }\n</style>\n<table border=\"1\" class=\"dataframe\">\n  <thead>\n    <tr style=\"text-align: right;\">\n      <th></th>\n      <th>offer_title</th>\n      <th>price</th>\n      <th>price_per_meter</th>\n      <th>offer_type</th>\n      <th>floor</th>\n      <th>area</th>\n      <th>rooms</th>\n      <th>offer_type_of_building</th>\n      <th>market</th>\n      <th>city_name</th>\n      <th>voivodeship</th>\n      <th>month</th>\n      <th>year</th>\n      <th>population</th>\n      <th>longitude</th>\n      <th>latitude</th>\n    </tr>\n  </thead>\n  <tbody>\n    <tr>\n      <th>30315</th>\n      <td>Mieszkanie Warka 45 m2 Odstąpię rezerwację</td>\n      <td>1.00000</td>\n      <td>0.02000</td>\n      <td>Private</td>\n      <td>3.00000</td>\n      <td>45.00000</td>\n      <td>2</td>\n      <td>Apartment Building</td>\n      <td>primary</td>\n      <td>Warka</td>\n      <td>Masovia</td>\n      <td>February</td>\n      <td>2022</td>\n      <td>11727</td>\n      <td>21.18338</td>\n      <td>51.78510</td>\n    </tr>\n    <tr>\n      <th>40287</th>\n      <td>Sprzedm tanio... bez pośredników...</td>\n      <td>4.00000</td>\n      <td>0.06000</td>\n      <td>Private</td>\n      <td>2.00000</td>\n      <td>62.00000</td>\n      <td>4</td>\n      <td>Housing Block</td>\n      <td>aftermarket</td>\n      <td>Siedlce</td>\n      <td>Masovia</td>\n      <td>February</td>\n      <td>2022</td>\n      <td>77102</td>\n      <td>22.27651</td>\n      <td>52.16638</td>\n    </tr>\n    <tr>\n      <th>40379</th>\n      <td>OKAZJA. Tylko 246 tys. zł. Nieruchomość na mie...</td>\n      <td>246.00000</td>\n      <td>1.76000</td>\n      <td>Estate Agency</td>\n      <td>0.00000</td>\n      <td>140.00000</td>\n      <td>4</td>\n      <td>Other</td>\n      <td>aftermarket</td>\n      <td>Kędzierzyn-Koźle</td>\n      <td>Opole</td>\n      <td>February</td>\n      <td>2022</td>\n      <td>63194</td>\n      <td>18.21096</td>\n      <td>50.34488</td>\n    </tr>\n    <tr>\n      <th>404</th>\n      <td>Dam odstępne za mieszkanie!</td>\n      <td>100.00000</td>\n      <td>2.00000</td>\n      <td>Private</td>\n      <td>1.00000</td>\n      <td>50.00000</td>\n      <td>2</td>\n      <td>Housing Block</td>\n      <td>primary</td>\n      <td>Zabrze</td>\n      <td>Silesia</td>\n      <td>January</td>\n      <td>2022</td>\n      <td>178357</td>\n      <td>18.78637</td>\n      <td>50.30862</td>\n    </tr>\n    <tr>\n      <th>2054</th>\n      <td>Zamiana Mieszkania</td>\n      <td>123.00000</td>\n      <td>2.73000</td>\n      <td>Private</td>\n      <td>2.00000</td>\n      <td>45.00000</td>\n      <td>2</td>\n      <td>Housing Block</td>\n      <td>aftermarket</td>\n      <td>Lądek-Zdrój</td>\n      <td>Lower Silesia</td>\n      <td>January</td>\n      <td>2022</td>\n      <td>5917</td>\n      <td>16.87259</td>\n      <td>50.34583</td>\n    </tr>\n    <tr>\n      <th>...</th>\n      <td>...</td>\n      <td>...</td>\n      <td>...</td>\n      <td>...</td>\n      <td>...</td>\n      <td>...</td>\n      <td>...</td>\n      <td>...</td>\n      <td>...</td>\n      <td>...</td>\n      <td>...</td>\n      <td>...</td>\n      <td>...</td>\n      <td>...</td>\n      <td>...</td>\n      <td>...</td>\n    </tr>\n    <tr>\n      <th>51502</th>\n      <td>Komfortowy,wyjątkowy apart.108m2,wyposażony,ul...</td>\n      <td>4500000.00000</td>\n      <td>41666.67000</td>\n      <td>Estate Agency</td>\n      <td>4.00000</td>\n      <td>108.00000</td>\n      <td>4</td>\n      <td>Apartment Building</td>\n      <td>aftermarket</td>\n      <td>Gdańsk</td>\n      <td>Pomerania</td>\n      <td>March</td>\n      <td>2022</td>\n      <td>461935</td>\n      <td>18.65402</td>\n      <td>54.34829</td>\n    </tr>\n    <tr>\n      <th>35588</th>\n      <td>Mieszkanie do sprzedaży</td>\n      <td>2800000.00000</td>\n      <td>53742.80000</td>\n      <td>Private</td>\n      <td>2.00000</td>\n      <td>52.10000</td>\n      <td>2</td>\n      <td>Tenement</td>\n      <td>aftermarket</td>\n      <td>Biskupiec</td>\n      <td>Warmia-Masuria</td>\n      <td>February</td>\n      <td>2022</td>\n      <td>10626</td>\n      <td>20.95518</td>\n      <td>53.86880</td>\n    </tr>\n    <tr>\n      <th>29663</th>\n      <td>4 pokojowe mieszkanie w slupsku</td>\n      <td>4440000.00000</td>\n      <td>60000.00000</td>\n      <td>Private</td>\n      <td>4.00000</td>\n      <td>74.00000</td>\n      <td>4</td>\n      <td>Housing Block</td>\n      <td>aftermarket</td>\n      <td>Słupsk</td>\n      <td>Pomerania</td>\n      <td>February</td>\n      <td>2022</td>\n      <td>93936</td>\n      <td>17.02807</td>\n      <td>54.46493</td>\n    </tr>\n    <tr>\n      <th>52100</th>\n      <td>Sprzedam mieszkanie -cesja</td>\n      <td>6580000.00000</td>\n      <td>149545.45000</td>\n      <td>Private</td>\n      <td>1.00000</td>\n      <td>44.00000</td>\n      <td>2</td>\n      <td>Housing Block</td>\n      <td>primary</td>\n      <td>Kraków</td>\n      <td>Lesser Poland</td>\n      <td>March</td>\n      <td>2022</td>\n      <td>762508</td>\n      <td>19.93686</td>\n      <td>50.06195</td>\n    </tr>\n    <tr>\n      <th>36199</th>\n      <td>Okazja Pogodno 56 mkw z ogródkiem tylko u nas</td>\n      <td>504151616.00000</td>\n      <td>9002707.43000</td>\n      <td>Estate Agency</td>\n      <td>1.00000</td>\n      <td>56.00000</td>\n      <td>2</td>\n      <td>Housing Block</td>\n      <td>aftermarket</td>\n      <td>Szczecin</td>\n      <td>West Pomerania</td>\n      <td>February</td>\n      <td>2022</td>\n      <td>402465</td>\n      <td>14.55096</td>\n      <td>53.43018</td>\n    </tr>\n  </tbody>\n</table>\n<p>61080 rows × 16 columns</p>\n</div>"
     },
     "execution_count": 19,
     "metadata": {},
     "output_type": "execute_result"
    }
   ],
   "source": [
    "df_house.sort_values(('price_per_meter'))"
   ],
   "metadata": {
    "collapsed": false
   }
  },
  {
   "cell_type": "code",
   "execution_count": 20,
   "outputs": [
    {
     "data": {
      "text/plain": "                                             offer_title           price  \\\n36199      Okazja Pogodno 56 mkw z ogródkiem tylko u nas 504151616.00000   \n52100                         Sprzedam mieszkanie -cesja   6580000.00000   \n29663                    4 pokojowe mieszkanie w slupsku   4440000.00000   \n35588                            Mieszkanie do sprzedaży   2800000.00000   \n51502  Komfortowy,wyjątkowy apart.108m2,wyposażony,ul...   4500000.00000   \n...                                                  ...             ...   \n2054                                  Zamiana Mieszkania       123.00000   \n404                          Dam odstępne za mieszkanie!       100.00000   \n40379  OKAZJA. Tylko 246 tys. zł. Nieruchomość na mie...       246.00000   \n40287                Sprzedm tanio... bez pośredników...         4.00000   \n30315         Mieszkanie Warka 45 m2 Odstąpię rezerwację         1.00000   \n\n       price_per_meter     offer_type   floor      area  rooms  \\\n36199    9002707.43000  Estate Agency 1.00000  56.00000      2   \n52100     149545.45000        Private 1.00000  44.00000      2   \n29663      60000.00000        Private 4.00000  74.00000      4   \n35588      53742.80000        Private 2.00000  52.10000      2   \n51502      41666.67000  Estate Agency 4.00000 108.00000      4   \n...                ...            ...     ...       ...    ...   \n2054           2.73000        Private 2.00000  45.00000      2   \n404            2.00000        Private 1.00000  50.00000      2   \n40379          1.76000  Estate Agency 0.00000 140.00000      4   \n40287          0.06000        Private 2.00000  62.00000      4   \n30315          0.02000        Private 3.00000  45.00000      2   \n\n      offer_type_of_building       market         city_name     voivodeship  \\\n36199          Housing Block  aftermarket          Szczecin  West Pomerania   \n52100          Housing Block      primary            Kraków   Lesser Poland   \n29663          Housing Block  aftermarket            Słupsk       Pomerania   \n35588               Tenement  aftermarket         Biskupiec  Warmia-Masuria   \n51502     Apartment Building  aftermarket            Gdańsk       Pomerania   \n...                      ...          ...               ...             ...   \n2054           Housing Block  aftermarket       Lądek-Zdrój   Lower Silesia   \n404            Housing Block      primary            Zabrze         Silesia   \n40379                  Other  aftermarket  Kędzierzyn-Koźle           Opole   \n40287          Housing Block  aftermarket           Siedlce         Masovia   \n30315     Apartment Building      primary             Warka         Masovia   \n\n          month  year  population  longitude  latitude  \n36199  February  2022      402465   14.55096  53.43018  \n52100     March  2022      762508   19.93686  50.06195  \n29663  February  2022       93936   17.02807  54.46493  \n35588  February  2022       10626   20.95518  53.86880  \n51502     March  2022      461935   18.65402  54.34829  \n...         ...   ...         ...        ...       ...  \n2054    January  2022        5917   16.87259  50.34583  \n404     January  2022      178357   18.78637  50.30862  \n40379  February  2022       63194   18.21096  50.34488  \n40287  February  2022       77102   22.27651  52.16638  \n30315  February  2022       11727   21.18338  51.78510  \n\n[61080 rows x 16 columns]",
      "text/html": "<div>\n<style scoped>\n    .dataframe tbody tr th:only-of-type {\n        vertical-align: middle;\n    }\n\n    .dataframe tbody tr th {\n        vertical-align: top;\n    }\n\n    .dataframe thead th {\n        text-align: right;\n    }\n</style>\n<table border=\"1\" class=\"dataframe\">\n  <thead>\n    <tr style=\"text-align: right;\">\n      <th></th>\n      <th>offer_title</th>\n      <th>price</th>\n      <th>price_per_meter</th>\n      <th>offer_type</th>\n      <th>floor</th>\n      <th>area</th>\n      <th>rooms</th>\n      <th>offer_type_of_building</th>\n      <th>market</th>\n      <th>city_name</th>\n      <th>voivodeship</th>\n      <th>month</th>\n      <th>year</th>\n      <th>population</th>\n      <th>longitude</th>\n      <th>latitude</th>\n    </tr>\n  </thead>\n  <tbody>\n    <tr>\n      <th>36199</th>\n      <td>Okazja Pogodno 56 mkw z ogródkiem tylko u nas</td>\n      <td>504151616.00000</td>\n      <td>9002707.43000</td>\n      <td>Estate Agency</td>\n      <td>1.00000</td>\n      <td>56.00000</td>\n      <td>2</td>\n      <td>Housing Block</td>\n      <td>aftermarket</td>\n      <td>Szczecin</td>\n      <td>West Pomerania</td>\n      <td>February</td>\n      <td>2022</td>\n      <td>402465</td>\n      <td>14.55096</td>\n      <td>53.43018</td>\n    </tr>\n    <tr>\n      <th>52100</th>\n      <td>Sprzedam mieszkanie -cesja</td>\n      <td>6580000.00000</td>\n      <td>149545.45000</td>\n      <td>Private</td>\n      <td>1.00000</td>\n      <td>44.00000</td>\n      <td>2</td>\n      <td>Housing Block</td>\n      <td>primary</td>\n      <td>Kraków</td>\n      <td>Lesser Poland</td>\n      <td>March</td>\n      <td>2022</td>\n      <td>762508</td>\n      <td>19.93686</td>\n      <td>50.06195</td>\n    </tr>\n    <tr>\n      <th>29663</th>\n      <td>4 pokojowe mieszkanie w slupsku</td>\n      <td>4440000.00000</td>\n      <td>60000.00000</td>\n      <td>Private</td>\n      <td>4.00000</td>\n      <td>74.00000</td>\n      <td>4</td>\n      <td>Housing Block</td>\n      <td>aftermarket</td>\n      <td>Słupsk</td>\n      <td>Pomerania</td>\n      <td>February</td>\n      <td>2022</td>\n      <td>93936</td>\n      <td>17.02807</td>\n      <td>54.46493</td>\n    </tr>\n    <tr>\n      <th>35588</th>\n      <td>Mieszkanie do sprzedaży</td>\n      <td>2800000.00000</td>\n      <td>53742.80000</td>\n      <td>Private</td>\n      <td>2.00000</td>\n      <td>52.10000</td>\n      <td>2</td>\n      <td>Tenement</td>\n      <td>aftermarket</td>\n      <td>Biskupiec</td>\n      <td>Warmia-Masuria</td>\n      <td>February</td>\n      <td>2022</td>\n      <td>10626</td>\n      <td>20.95518</td>\n      <td>53.86880</td>\n    </tr>\n    <tr>\n      <th>51502</th>\n      <td>Komfortowy,wyjątkowy apart.108m2,wyposażony,ul...</td>\n      <td>4500000.00000</td>\n      <td>41666.67000</td>\n      <td>Estate Agency</td>\n      <td>4.00000</td>\n      <td>108.00000</td>\n      <td>4</td>\n      <td>Apartment Building</td>\n      <td>aftermarket</td>\n      <td>Gdańsk</td>\n      <td>Pomerania</td>\n      <td>March</td>\n      <td>2022</td>\n      <td>461935</td>\n      <td>18.65402</td>\n      <td>54.34829</td>\n    </tr>\n    <tr>\n      <th>...</th>\n      <td>...</td>\n      <td>...</td>\n      <td>...</td>\n      <td>...</td>\n      <td>...</td>\n      <td>...</td>\n      <td>...</td>\n      <td>...</td>\n      <td>...</td>\n      <td>...</td>\n      <td>...</td>\n      <td>...</td>\n      <td>...</td>\n      <td>...</td>\n      <td>...</td>\n      <td>...</td>\n    </tr>\n    <tr>\n      <th>2054</th>\n      <td>Zamiana Mieszkania</td>\n      <td>123.00000</td>\n      <td>2.73000</td>\n      <td>Private</td>\n      <td>2.00000</td>\n      <td>45.00000</td>\n      <td>2</td>\n      <td>Housing Block</td>\n      <td>aftermarket</td>\n      <td>Lądek-Zdrój</td>\n      <td>Lower Silesia</td>\n      <td>January</td>\n      <td>2022</td>\n      <td>5917</td>\n      <td>16.87259</td>\n      <td>50.34583</td>\n    </tr>\n    <tr>\n      <th>404</th>\n      <td>Dam odstępne za mieszkanie!</td>\n      <td>100.00000</td>\n      <td>2.00000</td>\n      <td>Private</td>\n      <td>1.00000</td>\n      <td>50.00000</td>\n      <td>2</td>\n      <td>Housing Block</td>\n      <td>primary</td>\n      <td>Zabrze</td>\n      <td>Silesia</td>\n      <td>January</td>\n      <td>2022</td>\n      <td>178357</td>\n      <td>18.78637</td>\n      <td>50.30862</td>\n    </tr>\n    <tr>\n      <th>40379</th>\n      <td>OKAZJA. Tylko 246 tys. zł. Nieruchomość na mie...</td>\n      <td>246.00000</td>\n      <td>1.76000</td>\n      <td>Estate Agency</td>\n      <td>0.00000</td>\n      <td>140.00000</td>\n      <td>4</td>\n      <td>Other</td>\n      <td>aftermarket</td>\n      <td>Kędzierzyn-Koźle</td>\n      <td>Opole</td>\n      <td>February</td>\n      <td>2022</td>\n      <td>63194</td>\n      <td>18.21096</td>\n      <td>50.34488</td>\n    </tr>\n    <tr>\n      <th>40287</th>\n      <td>Sprzedm tanio... bez pośredników...</td>\n      <td>4.00000</td>\n      <td>0.06000</td>\n      <td>Private</td>\n      <td>2.00000</td>\n      <td>62.00000</td>\n      <td>4</td>\n      <td>Housing Block</td>\n      <td>aftermarket</td>\n      <td>Siedlce</td>\n      <td>Masovia</td>\n      <td>February</td>\n      <td>2022</td>\n      <td>77102</td>\n      <td>22.27651</td>\n      <td>52.16638</td>\n    </tr>\n    <tr>\n      <th>30315</th>\n      <td>Mieszkanie Warka 45 m2 Odstąpię rezerwację</td>\n      <td>1.00000</td>\n      <td>0.02000</td>\n      <td>Private</td>\n      <td>3.00000</td>\n      <td>45.00000</td>\n      <td>2</td>\n      <td>Apartment Building</td>\n      <td>primary</td>\n      <td>Warka</td>\n      <td>Masovia</td>\n      <td>February</td>\n      <td>2022</td>\n      <td>11727</td>\n      <td>21.18338</td>\n      <td>51.78510</td>\n    </tr>\n  </tbody>\n</table>\n<p>61080 rows × 16 columns</p>\n</div>"
     },
     "execution_count": 20,
     "metadata": {},
     "output_type": "execute_result"
    }
   ],
   "source": [
    "df_house.sort_values('price_per_meter',ascending=False)"
   ],
   "metadata": {
    "collapsed": false
   }
  },
  {
   "cell_type": "code",
   "execution_count": 23,
   "outputs": [],
   "source": [
    "df_house = df_house[(df_house['price_per_meter'] >= 500) & (df_house['price_per_meter'] <=60000)]"
   ],
   "metadata": {
    "collapsed": false
   }
  },
  {
   "cell_type": "code",
   "execution_count": 24,
   "outputs": [
    {
     "ename": "TypeError",
     "evalue": "'DataFrame' object is not callable",
     "output_type": "error",
     "traceback": [
      "\u001B[1;31m---------------------------------------------------------------------------\u001B[0m",
      "\u001B[1;31mTypeError\u001B[0m                                 Traceback (most recent call last)",
      "Cell \u001B[1;32mIn[24], line 1\u001B[0m\n\u001B[1;32m----> 1\u001B[0m df_house \u001B[38;5;241m=\u001B[39m \u001B[43mdf_house\u001B[49m\u001B[43m(\u001B[49m\u001B[43mdf_house\u001B[49m\u001B[43m[\u001B[49m\u001B[38;5;124;43m'\u001B[39;49m\u001B[38;5;124;43mprice\u001B[39;49m\u001B[38;5;124;43m'\u001B[39;49m\u001B[43m]\u001B[49m\u001B[38;5;241;43m>\u001B[39;49m\u001B[38;5;241;43m100000\u001B[39;49m\u001B[43m)\u001B[49m\n",
      "\u001B[1;31mTypeError\u001B[0m: 'DataFrame' object is not callable"
     ]
    }
   ],
   "source": [
    "df_house = df_house(df_house['price']>100000)"
   ],
   "metadata": {
    "collapsed": false
   }
  },
  {
   "cell_type": "markdown",
   "source": [
    "Eksploracja"
   ],
   "metadata": {
    "collapsed": false
   }
  },
  {
   "cell_type": "code",
   "execution_count": 25,
   "outputs": [
    {
     "data": {
      "text/plain": "offer_type_of_building\nHousing Block         43662\nTenement               8628\nApartment Building     6325\nOther                  2230\nLoft                    104\nName: count, dtype: int64"
     },
     "execution_count": 25,
     "metadata": {},
     "output_type": "execute_result"
    }
   ],
   "source": [
    "df_house['offer_type_of_building'].value_counts()"
   ],
   "metadata": {
    "collapsed": false
   }
  },
  {
   "cell_type": "code",
   "execution_count": 26,
   "outputs": [
    {
     "data": {
      "text/plain": "market\naftermarket    53724\nprimary         7225\nName: count, dtype: int64"
     },
     "execution_count": 26,
     "metadata": {},
     "output_type": "execute_result"
    }
   ],
   "source": [
    "df_house['market'].value_counts()"
   ],
   "metadata": {
    "collapsed": false
   }
  },
  {
   "cell_type": "code",
   "execution_count": 27,
   "outputs": [
    {
     "data": {
      "text/plain": "voivodeship\nMasovia              8993\nSilesia              7466\nLower Silesia        5649\nLodzkie              5639\nLesser Poland        4830\nGreater Poland       4363\nWest Pomerania       3715\nLublin               3330\nPomerania            3135\nKuyavia-Pomerania    3092\nWarmia-Masuria       2940\nSubcarpathia         1706\nŚwiętokrzyskie       1582\nPodlaskie            1519\nOpole                1506\nLubusz               1484\nName: count, dtype: int64"
     },
     "execution_count": 27,
     "metadata": {},
     "output_type": "execute_result"
    }
   ],
   "source": [
    "df_house['voivodeship'].value_counts()"
   ],
   "metadata": {
    "collapsed": false
   }
  },
  {
   "cell_type": "code",
   "execution_count": 28,
   "outputs": [
    {
     "data": {
      "text/plain": "5232"
     },
     "execution_count": 28,
     "metadata": {},
     "output_type": "execute_result"
    }
   ],
   "source": [
    "df_house[df_house['area']<20].size"
   ],
   "metadata": {
    "collapsed": false
   }
  },
  {
   "cell_type": "code",
   "execution_count": 29,
   "outputs": [
    {
     "data": {
      "text/plain": "                                             offer_title        price  \\\n28     ROI 7,2% - piękna kawalerka  ul Słowiańska - i... 159000.00000   \n1330   Bezpośrednio od właściciela Apartament 24m2 Łó... 289000.00000   \n1331   Mieszkanie 1-pokojowe w rewitalizowanej Kamienicy 195000.00000   \n1333   kawalerka z C.O. w zrewitalizowanej kamienicy ... 170000.00000   \n1335   RENTAROOM.PL KAWALERKI INWESTYCYJNE super loka... 159000.00000   \n...                                                  ...          ...   \n53455  Kawalerka 20 m2 bezczynszowa z miejscem parkin... 105000.00000   \n53457  Kawalerka 23 M2, sprzedam lub zamienię, pełna ... 120000.00000   \n55241  2 małe pomieszczenia z niskim czynszem do włas...  20000.00000   \n55329  Dwupokojowe mieszkanie 10 min od Manufaktury i... 199000.00000   \n59196  RENTAROOM.PL KAWALERKI INWESTYCYJNE wynajęte,p... 149000.00000   \n\n       price_per_meter     offer_type   floor     area  rooms  \\\n28          9937.50000  Estate Agency 2.00000 16.00000      1   \n1330       12041.67000  Estate Agency 0.00000 24.00000      1   \n1331        9276.88000  Estate Agency 2.00000 21.02000      1   \n1333       10585.31000        Private 2.00000 16.06000      1   \n1335        7950.00000  Estate Agency 4.00000 20.00000      1   \n...                ...            ...     ...      ...    ...   \n53455       5250.00000        Private 1.00000 20.00000      1   \n53457       5217.39000        Private 2.00000 23.00000      1   \n55241       1000.00000  Estate Agency 1.00000 20.00000      2   \n55329       8291.67000        Private 1.00000 24.00000      2   \n59196       8277.78000  Estate Agency 3.00000 18.00000      3   \n\n      offer_type_of_building       market city_name voivodeship    month  \\\n28                  Tenement      primary      Łódź     Lodzkie  January   \n1330      Apartment Building  aftermarket      Łódź     Lodzkie  January   \n1331                Tenement  aftermarket      Łódź     Lodzkie  January   \n1333                Tenement  aftermarket      Łódź     Lodzkie  January   \n1335           Housing Block  aftermarket      Łódź     Lodzkie  January   \n...                      ...          ...       ...         ...      ...   \n53455               Tenement  aftermarket      Łódź     Lodzkie    March   \n53457               Tenement  aftermarket      Łódź     Lodzkie    March   \n55241               Tenement  aftermarket      Łódź     Lodzkie    March   \n55329               Tenement  aftermarket      Łódź     Lodzkie    March   \n59196          Housing Block  aftermarket      Łódź     Lodzkie    March   \n\n       year  population  longitude  latitude  \n28     2022      711332   19.45699  51.76873  \n1330   2022      711332   19.45699  51.76873  \n1331   2022      711332   19.45699  51.76873  \n1333   2022      711332   19.45699  51.76873  \n1335   2022      711332   19.45699  51.76873  \n...     ...         ...        ...       ...  \n53455  2022      711332   19.45699  51.76873  \n53457  2022      711332   19.45699  51.76873  \n55241  2022      711332   19.45699  51.76873  \n55329  2022      711332   19.45699  51.76873  \n59196  2022      711332   19.45699  51.76873  \n\n[151 rows x 16 columns]",
      "text/html": "<div>\n<style scoped>\n    .dataframe tbody tr th:only-of-type {\n        vertical-align: middle;\n    }\n\n    .dataframe tbody tr th {\n        vertical-align: top;\n    }\n\n    .dataframe thead th {\n        text-align: right;\n    }\n</style>\n<table border=\"1\" class=\"dataframe\">\n  <thead>\n    <tr style=\"text-align: right;\">\n      <th></th>\n      <th>offer_title</th>\n      <th>price</th>\n      <th>price_per_meter</th>\n      <th>offer_type</th>\n      <th>floor</th>\n      <th>area</th>\n      <th>rooms</th>\n      <th>offer_type_of_building</th>\n      <th>market</th>\n      <th>city_name</th>\n      <th>voivodeship</th>\n      <th>month</th>\n      <th>year</th>\n      <th>population</th>\n      <th>longitude</th>\n      <th>latitude</th>\n    </tr>\n  </thead>\n  <tbody>\n    <tr>\n      <th>28</th>\n      <td>ROI 7,2% - piękna kawalerka  ul Słowiańska - i...</td>\n      <td>159000.00000</td>\n      <td>9937.50000</td>\n      <td>Estate Agency</td>\n      <td>2.00000</td>\n      <td>16.00000</td>\n      <td>1</td>\n      <td>Tenement</td>\n      <td>primary</td>\n      <td>Łódź</td>\n      <td>Lodzkie</td>\n      <td>January</td>\n      <td>2022</td>\n      <td>711332</td>\n      <td>19.45699</td>\n      <td>51.76873</td>\n    </tr>\n    <tr>\n      <th>1330</th>\n      <td>Bezpośrednio od właściciela Apartament 24m2 Łó...</td>\n      <td>289000.00000</td>\n      <td>12041.67000</td>\n      <td>Estate Agency</td>\n      <td>0.00000</td>\n      <td>24.00000</td>\n      <td>1</td>\n      <td>Apartment Building</td>\n      <td>aftermarket</td>\n      <td>Łódź</td>\n      <td>Lodzkie</td>\n      <td>January</td>\n      <td>2022</td>\n      <td>711332</td>\n      <td>19.45699</td>\n      <td>51.76873</td>\n    </tr>\n    <tr>\n      <th>1331</th>\n      <td>Mieszkanie 1-pokojowe w rewitalizowanej Kamienicy</td>\n      <td>195000.00000</td>\n      <td>9276.88000</td>\n      <td>Estate Agency</td>\n      <td>2.00000</td>\n      <td>21.02000</td>\n      <td>1</td>\n      <td>Tenement</td>\n      <td>aftermarket</td>\n      <td>Łódź</td>\n      <td>Lodzkie</td>\n      <td>January</td>\n      <td>2022</td>\n      <td>711332</td>\n      <td>19.45699</td>\n      <td>51.76873</td>\n    </tr>\n    <tr>\n      <th>1333</th>\n      <td>kawalerka z C.O. w zrewitalizowanej kamienicy ...</td>\n      <td>170000.00000</td>\n      <td>10585.31000</td>\n      <td>Private</td>\n      <td>2.00000</td>\n      <td>16.06000</td>\n      <td>1</td>\n      <td>Tenement</td>\n      <td>aftermarket</td>\n      <td>Łódź</td>\n      <td>Lodzkie</td>\n      <td>January</td>\n      <td>2022</td>\n      <td>711332</td>\n      <td>19.45699</td>\n      <td>51.76873</td>\n    </tr>\n    <tr>\n      <th>1335</th>\n      <td>RENTAROOM.PL KAWALERKI INWESTYCYJNE super loka...</td>\n      <td>159000.00000</td>\n      <td>7950.00000</td>\n      <td>Estate Agency</td>\n      <td>4.00000</td>\n      <td>20.00000</td>\n      <td>1</td>\n      <td>Housing Block</td>\n      <td>aftermarket</td>\n      <td>Łódź</td>\n      <td>Lodzkie</td>\n      <td>January</td>\n      <td>2022</td>\n      <td>711332</td>\n      <td>19.45699</td>\n      <td>51.76873</td>\n    </tr>\n    <tr>\n      <th>...</th>\n      <td>...</td>\n      <td>...</td>\n      <td>...</td>\n      <td>...</td>\n      <td>...</td>\n      <td>...</td>\n      <td>...</td>\n      <td>...</td>\n      <td>...</td>\n      <td>...</td>\n      <td>...</td>\n      <td>...</td>\n      <td>...</td>\n      <td>...</td>\n      <td>...</td>\n      <td>...</td>\n    </tr>\n    <tr>\n      <th>53455</th>\n      <td>Kawalerka 20 m2 bezczynszowa z miejscem parkin...</td>\n      <td>105000.00000</td>\n      <td>5250.00000</td>\n      <td>Private</td>\n      <td>1.00000</td>\n      <td>20.00000</td>\n      <td>1</td>\n      <td>Tenement</td>\n      <td>aftermarket</td>\n      <td>Łódź</td>\n      <td>Lodzkie</td>\n      <td>March</td>\n      <td>2022</td>\n      <td>711332</td>\n      <td>19.45699</td>\n      <td>51.76873</td>\n    </tr>\n    <tr>\n      <th>53457</th>\n      <td>Kawalerka 23 M2, sprzedam lub zamienię, pełna ...</td>\n      <td>120000.00000</td>\n      <td>5217.39000</td>\n      <td>Private</td>\n      <td>2.00000</td>\n      <td>23.00000</td>\n      <td>1</td>\n      <td>Tenement</td>\n      <td>aftermarket</td>\n      <td>Łódź</td>\n      <td>Lodzkie</td>\n      <td>March</td>\n      <td>2022</td>\n      <td>711332</td>\n      <td>19.45699</td>\n      <td>51.76873</td>\n    </tr>\n    <tr>\n      <th>55241</th>\n      <td>2 małe pomieszczenia z niskim czynszem do włas...</td>\n      <td>20000.00000</td>\n      <td>1000.00000</td>\n      <td>Estate Agency</td>\n      <td>1.00000</td>\n      <td>20.00000</td>\n      <td>2</td>\n      <td>Tenement</td>\n      <td>aftermarket</td>\n      <td>Łódź</td>\n      <td>Lodzkie</td>\n      <td>March</td>\n      <td>2022</td>\n      <td>711332</td>\n      <td>19.45699</td>\n      <td>51.76873</td>\n    </tr>\n    <tr>\n      <th>55329</th>\n      <td>Dwupokojowe mieszkanie 10 min od Manufaktury i...</td>\n      <td>199000.00000</td>\n      <td>8291.67000</td>\n      <td>Private</td>\n      <td>1.00000</td>\n      <td>24.00000</td>\n      <td>2</td>\n      <td>Tenement</td>\n      <td>aftermarket</td>\n      <td>Łódź</td>\n      <td>Lodzkie</td>\n      <td>March</td>\n      <td>2022</td>\n      <td>711332</td>\n      <td>19.45699</td>\n      <td>51.76873</td>\n    </tr>\n    <tr>\n      <th>59196</th>\n      <td>RENTAROOM.PL KAWALERKI INWESTYCYJNE wynajęte,p...</td>\n      <td>149000.00000</td>\n      <td>8277.78000</td>\n      <td>Estate Agency</td>\n      <td>3.00000</td>\n      <td>18.00000</td>\n      <td>3</td>\n      <td>Housing Block</td>\n      <td>aftermarket</td>\n      <td>Łódź</td>\n      <td>Lodzkie</td>\n      <td>March</td>\n      <td>2022</td>\n      <td>711332</td>\n      <td>19.45699</td>\n      <td>51.76873</td>\n    </tr>\n  </tbody>\n</table>\n<p>151 rows × 16 columns</p>\n</div>"
     },
     "execution_count": 29,
     "metadata": {},
     "output_type": "execute_result"
    }
   ],
   "source": [
    "df_house[(df_house['city_name']=='Łódź')& (df_house['area']>10)&(df_house['area']<25)]"
   ],
   "metadata": {
    "collapsed": false
   }
  },
  {
   "cell_type": "code",
   "execution_count": 31,
   "outputs": [
    {
     "data": {
      "text/plain": "rooms\n1    143\n3      4\n2      4\nName: count, dtype: int64"
     },
     "execution_count": 31,
     "metadata": {},
     "output_type": "execute_result"
    }
   ],
   "source": [
    "df_house[(df_house['city_name']=='Łódź')& (df_house['area']>10)&(df_house['area']<25)]['rooms'].value_counts()"
   ],
   "metadata": {
    "collapsed": false
   }
  },
  {
   "cell_type": "code",
   "execution_count": 32,
   "outputs": [
    {
     "data": {
      "text/plain": "voivodeship\nLesser Poland       10115.69166\nMasovia              9786.41832\nPomerania            8539.35089\nWest Pomerania       7370.23824\nLower Silesia        7363.74397\nPodlaskie            7351.58998\nLublin               7016.10032\nGreater Poland       6576.94944\nLodzkie              6466.39793\nSubcarpathia         6285.87235\nKuyavia-Pomerania    6260.73864\nWarmia-Masuria       6118.25877\nŚwiętokrzyskie       5874.88949\nSilesia              5676.37234\nLubusz               5347.65537\nOpole                5095.43297\nName: price_per_meter, dtype: float64"
     },
     "execution_count": 32,
     "metadata": {},
     "output_type": "execute_result"
    }
   ],
   "source": [
    "df_house.groupby('voivodeship')['price_per_meter'].mean().sort_values(ascending=False)"
   ],
   "metadata": {
    "collapsed": false
   }
  },
  {
   "cell_type": "code",
   "execution_count": 34,
   "outputs": [
    {
     "data": {
      "text/plain": "city_name\nZakopane           19346.82588\nMiędzyzdroje       15190.51719\nSzklarska Poręba   15015.03375\nSopot              14822.97873\nSzczyrk            14614.36474\n                       ...    \nZagórz              1808.08000\nSulejów             1568.51500\nMałomice            1529.91400\nSzczuczyn           1323.53000\nLipiany             1246.82625\nName: price_per_meter, Length: 608, dtype: float64"
     },
     "execution_count": 34,
     "metadata": {},
     "output_type": "execute_result"
    }
   ],
   "source": [
    "df_house.groupby('city_name')['price_per_meter'].mean().sort_values(ascending=False)"
   ],
   "metadata": {
    "collapsed": false
   }
  },
  {
   "cell_type": "code",
   "execution_count": 35,
   "outputs": [
    {
     "data": {
      "text/plain": "voivodeship        market     \nGreater Poland     aftermarket    6645.85946\n                   primary        6287.08329\nKuyavia-Pomerania  aftermarket    6221.74405\n                   primary        6696.43406\nLesser Poland      aftermarket   10129.25807\n                   primary       10022.53860\nLodzkie            aftermarket    6431.35706\n                   primary        6769.70548\nLower Silesia      aftermarket    7307.29069\n                   primary        7800.95102\nLublin             aftermarket    7041.13556\n                   primary        6792.27779\nLubusz             aftermarket    5337.28831\n                   primary        5482.42717\nMasovia            aftermarket    9866.87232\n                   primary        9167.14042\nOpole              aftermarket    5052.69153\n                   primary        5519.13080\nPodlaskie          aftermarket    7310.81568\n                   primary        7707.84237\nPomerania          aftermarket    8648.68380\n                   primary        7871.45324\nSilesia            aftermarket    5511.49943\n                   primary        6800.44303\nSubcarpathia       aftermarket    6242.79567\n                   primary        6603.03495\nWarmia-Masuria     aftermarket    6119.82045\n                   primary        6101.00352\nWest Pomerania     aftermarket    7299.96890\n                   primary        7930.52594\nŚwiętokrzyskie     aftermarket    5759.22449\n                   primary        6457.62916\nName: price_per_meter, dtype: float64"
     },
     "execution_count": 35,
     "metadata": {},
     "output_type": "execute_result"
    }
   ],
   "source": [
    "df_house.groupby(['voivodeship','market'])['price_per_meter'].mean()"
   ],
   "metadata": {
    "collapsed": false
   }
  },
  {
   "cell_type": "code",
   "execution_count": null,
   "outputs": [],
   "source": [],
   "metadata": {
    "collapsed": false
   }
  }
 ],
 "metadata": {
  "kernelspec": {
   "display_name": "Python 3",
   "language": "python",
   "name": "python3"
  },
  "language_info": {
   "codemirror_mode": {
    "name": "ipython",
    "version": 2
   },
   "file_extension": ".py",
   "mimetype": "text/x-python",
   "name": "python",
   "nbconvert_exporter": "python",
   "pygments_lexer": "ipython2",
   "version": "2.7.6"
  }
 },
 "nbformat": 4,
 "nbformat_minor": 0
}
