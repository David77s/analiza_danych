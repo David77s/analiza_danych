{
 "cells": [
  {
   "cell_type": "code",
   "execution_count": 1,
   "metadata": {
    "collapsed": true
   },
   "outputs": [],
   "source": [
    "import pandas as pd"
   ]
  },
  {
   "cell_type": "markdown",
   "source": [
    "### CSV"
   ],
   "metadata": {
    "collapsed": false
   }
  },
  {
   "cell_type": "code",
   "execution_count": 2,
   "outputs": [
    {
     "ename": "SyntaxError",
     "evalue": "unterminated string literal (detected at line 1) (2390606358.py, line 1)",
     "output_type": "error",
     "traceback": [
      "\u001B[1;36m  Cell \u001B[1;32mIn[2], line 1\u001B[1;36m\u001B[0m\n\u001B[1;33m    df_csv = pd.read_csv('../../Pliki/02_pandas/people.csv)\u001B[0m\n\u001B[1;37m                         ^\u001B[0m\n\u001B[1;31mSyntaxError\u001B[0m\u001B[1;31m:\u001B[0m unterminated string literal (detected at line 1)\n"
     ]
    }
   ],
   "source": [
    "df_csv = pd.read_csv('../../Pliki/02_pandas/people.csv)\n",
    "df_csv\n"
   ],
   "metadata": {
    "collapsed": false
   }
  },
  {
   "cell_type": "code",
   "execution_count": 3,
   "outputs": [
    {
     "data": {
      "text/plain": "         Product             Category  Price  Stock\n0         Laptop          Electronics   1200     50\n1     Smartphone          Electronics    800    100\n2        T-shirt             Clothing     25    300\n3          Jeans             Clothing     60    150\n4       Sneakers                Shoes     80    200\n5     Headphones          Electronics    150     75\n6       Backpack          Accessories     40    120\n7           Desk            Furniture    250     30\n8          Chair            Furniture    150     50\n9         Guitar  Musical Instruments    300     40\n10      Keyboard  Musical Instruments    200     60\n11          Book                Books     15    500\n12         Watch          Accessories    100     80\n13    Sunglasses          Accessories     50    100\n14     Microwave           Appliances    100     25\n15  Refrigerator           Appliances    500     15",
      "text/html": "<div>\n<style scoped>\n    .dataframe tbody tr th:only-of-type {\n        vertical-align: middle;\n    }\n\n    .dataframe tbody tr th {\n        vertical-align: top;\n    }\n\n    .dataframe thead th {\n        text-align: right;\n    }\n</style>\n<table border=\"1\" class=\"dataframe\">\n  <thead>\n    <tr style=\"text-align: right;\">\n      <th></th>\n      <th>Product</th>\n      <th>Category</th>\n      <th>Price</th>\n      <th>Stock</th>\n    </tr>\n  </thead>\n  <tbody>\n    <tr>\n      <th>0</th>\n      <td>Laptop</td>\n      <td>Electronics</td>\n      <td>1200</td>\n      <td>50</td>\n    </tr>\n    <tr>\n      <th>1</th>\n      <td>Smartphone</td>\n      <td>Electronics</td>\n      <td>800</td>\n      <td>100</td>\n    </tr>\n    <tr>\n      <th>2</th>\n      <td>T-shirt</td>\n      <td>Clothing</td>\n      <td>25</td>\n      <td>300</td>\n    </tr>\n    <tr>\n      <th>3</th>\n      <td>Jeans</td>\n      <td>Clothing</td>\n      <td>60</td>\n      <td>150</td>\n    </tr>\n    <tr>\n      <th>4</th>\n      <td>Sneakers</td>\n      <td>Shoes</td>\n      <td>80</td>\n      <td>200</td>\n    </tr>\n    <tr>\n      <th>5</th>\n      <td>Headphones</td>\n      <td>Electronics</td>\n      <td>150</td>\n      <td>75</td>\n    </tr>\n    <tr>\n      <th>6</th>\n      <td>Backpack</td>\n      <td>Accessories</td>\n      <td>40</td>\n      <td>120</td>\n    </tr>\n    <tr>\n      <th>7</th>\n      <td>Desk</td>\n      <td>Furniture</td>\n      <td>250</td>\n      <td>30</td>\n    </tr>\n    <tr>\n      <th>8</th>\n      <td>Chair</td>\n      <td>Furniture</td>\n      <td>150</td>\n      <td>50</td>\n    </tr>\n    <tr>\n      <th>9</th>\n      <td>Guitar</td>\n      <td>Musical Instruments</td>\n      <td>300</td>\n      <td>40</td>\n    </tr>\n    <tr>\n      <th>10</th>\n      <td>Keyboard</td>\n      <td>Musical Instruments</td>\n      <td>200</td>\n      <td>60</td>\n    </tr>\n    <tr>\n      <th>11</th>\n      <td>Book</td>\n      <td>Books</td>\n      <td>15</td>\n      <td>500</td>\n    </tr>\n    <tr>\n      <th>12</th>\n      <td>Watch</td>\n      <td>Accessories</td>\n      <td>100</td>\n      <td>80</td>\n    </tr>\n    <tr>\n      <th>13</th>\n      <td>Sunglasses</td>\n      <td>Accessories</td>\n      <td>50</td>\n      <td>100</td>\n    </tr>\n    <tr>\n      <th>14</th>\n      <td>Microwave</td>\n      <td>Appliances</td>\n      <td>100</td>\n      <td>25</td>\n    </tr>\n    <tr>\n      <th>15</th>\n      <td>Refrigerator</td>\n      <td>Appliances</td>\n      <td>500</td>\n      <td>15</td>\n    </tr>\n  </tbody>\n</table>\n</div>"
     },
     "execution_count": 3,
     "metadata": {},
     "output_type": "execute_result"
    }
   ],
   "source": [
    "df_excel = pd.read_excel('../../Pliki/02_pandas/products.xlsx')\n",
    "df_excel"
   ],
   "metadata": {
    "collapsed": false
   }
  },
  {
   "cell_type": "code",
   "execution_count": null,
   "outputs": [],
   "source": [],
   "metadata": {
    "collapsed": false
   }
  }
 ],
 "metadata": {
  "kernelspec": {
   "display_name": "Python 3",
   "language": "python",
   "name": "python3"
  },
  "language_info": {
   "codemirror_mode": {
    "name": "ipython",
    "version": 2
   },
   "file_extension": ".py",
   "mimetype": "text/x-python",
   "name": "python",
   "nbconvert_exporter": "python",
   "pygments_lexer": "ipython2",
   "version": "2.7.6"
  }
 },
 "nbformat": 4,
 "nbformat_minor": 0
}
